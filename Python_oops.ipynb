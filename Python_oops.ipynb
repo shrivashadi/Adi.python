{
  "nbformat": 4,
  "nbformat_minor": 0,
  "metadata": {
    "colab": {
      "provenance": []
    },
    "kernelspec": {
      "name": "python3",
      "display_name": "Python 3"
    },
    "language_info": {
      "name": "python"
    }
  },
  "cells": [
    {
      "cell_type": "markdown",
      "source": [
        "#OOPs :-"
      ],
      "metadata": {
        "id": "qJCAx-OT-4n6"
      }
    },
    {
      "cell_type": "markdown",
      "source": [
        "#TQ1:-  What is Object-Oriented Programming (OOP)?\n",
        "      - Object-Oriented Programming (OOP) is a programming paradigm that organizes code using objects, which are instances of classes. It focuses on encapsulating data and behavior together, promoting modularity, code reuse, and scalability.\n",
        "\n",
        "Key principles of OOP include:\n",
        "\n",
        "1-Encapsulation – hiding internal details and showing only relevant features.\n",
        "\n",
        "2-Abstraction – exposing only essential functionalities.\n",
        "\n",
        "3-Inheritance – deriving new classes from existing ones.\n",
        "\n",
        "4-Polymorphism – using a common interface to operate on different data types or classes.\n",
        "\n",
        "Python supports OOP and allows developers to create reusable, maintainable, and scalable code using classes and objects."
      ],
      "metadata": {
        "id": "Ni65nvG9--IY"
      }
    },
    {
      "cell_type": "markdown",
      "source": [
        "#TQ2:- What is a class in OOP?\n",
        "      - A class in Object-Oriented Programming is a blueprint or template for creating objects. It defines the attributes (data) and methods (functions) that the objects created from the class will have.\n",
        "\n",
        "In Python, a class is defined using the class keyword:"
      ],
      "metadata": {
        "id": "n_2-Vk9N_X2Y"
      }
    },
    {
      "cell_type": "code",
      "execution_count": 4,
      "metadata": {
        "id": "nnvME0wx7ir3"
      },
      "outputs": [],
      "source": [
        "class Car:\n",
        "    def __init__(self, brand, model):\n",
        "        self.brand = brand\n",
        "        self.model = model\n",
        "\n",
        "    def drive(self):\n",
        "        print(f\"The {self.brand} {self.model} is driving.\")\n"
      ]
    },
    {
      "cell_type": "markdown",
      "source": [
        "#TQ3:- What is an object in OOP?\n",
        "      - An object is an instance of a class in Object-Oriented Programming. It represents a real-world entity with state (attributes) and behavior (methods).\n",
        "\n",
        "Once a class is defined, you can create objects from it. Each object has its own unique values for the attributes defined in the class.\n",
        "\n",
        "Example:\n",
        "     "
      ],
      "metadata": {
        "id": "2mMClWPX_uPK"
      }
    },
    {
      "cell_type": "code",
      "source": [
        "class Car:\n",
        "    def __init__(self, brand, model):\n",
        "        self.brand = brand\n",
        "        self.model = model\n",
        "\n",
        "    def drive(self):\n",
        "        print(f\"The {self.brand} {self.model} is driving.\")\n",
        "\n",
        "# Creating objects\n",
        "car1 = Car(\"Toyota\", \"Corolla\")\n",
        "car2 = Car(\"Honda\", \"Civic\")\n",
        "\n",
        "car1.drive()   # Output: The Toyota Corolla is driving.\n",
        "car2.drive()   # Output: The Honda Civic is driving.\n"
      ],
      "metadata": {
        "colab": {
          "base_uri": "https://localhost:8080/",
          "height": 0
        },
        "id": "8kDIPRID_-Gv",
        "outputId": "9343854c-3929-45e0-ec1d-558d2a932525"
      },
      "execution_count": 5,
      "outputs": [
        {
          "output_type": "stream",
          "name": "stdout",
          "text": [
            "The Toyota Corolla is driving.\n",
            "The Honda Civic is driving.\n"
          ]
        }
      ]
    },
    {
      "cell_type": "markdown",
      "source": [
        "#tq4:- What is the difference between abstraction and encapsulation?\n",
        "       - Feature\tAbstraction\tEncapsulation\n",
        "Definition\tHiding implementation details and showing only essential features.\tWrapping data and methods into a single unit (class) and restricting direct access.\n",
        "Focus\tFocuses on what an object does.\tFocuses on how to protect the data.\n",
        "Purpose\tSimplifies complexity by hiding unnecessary details.\tSafeguards internal object state from unintended modification.\n",
        "How achieved\tUsing abstract classes or interfaces.\tUsing private/public modifiers and methods (getters/setters).\n",
        "Example\tAbstract method area() in base class Shape.\tPrivate attribute __balance in BankAccount class."
      ],
      "metadata": {
        "id": "lrHmoik7AAZQ"
      }
    },
    {
      "cell_type": "markdown",
      "source": [
        "#TQ5:- What are dunder methods in Python?\n",
        "      - Dunder methods (short for “double underscore methods”) are special methods in Python that have double underscores at the beginning and end of their names, like __init__, __str__, __len__, etc. They are also called magic methods.\n",
        "\n",
        "These methods allow you to define how objects of your class behave with built-in Python operations, such as object creation, string representation, arithmetic operations, etc.\n",
        "\n",
        "Common examples:\n",
        "\n",
        "__init__(self, ...) → Constructor (initializes object)\n",
        "\n",
        "__str__(self) → String representation using print()\n",
        "\n",
        "__len__(self) → Returns the length when len(obj) is called\n",
        "\n",
        "__add__(self, other) → Defines behavior of + operator\n",
        "\n",
        "__eq__(self, other) → Defines behavior of == operator"
      ],
      "metadata": {
        "id": "gtq0SF3PAeJQ"
      }
    },
    {
      "cell_type": "code",
      "source": [
        "class Book:\n",
        "    def __init__(self, title):\n",
        "        self.title = title\n",
        "\n",
        "    def __str__(self):\n",
        "        return f\"Book: {self.title}\"\n",
        "\n",
        "b = Book(\"Python OOP\")\n",
        "print(b)  # Output: Book: Python OOP\n"
      ],
      "metadata": {
        "colab": {
          "base_uri": "https://localhost:8080/",
          "height": 0
        },
        "id": "lk0dyg20ArrK",
        "outputId": "4370a51e-be67-4e3f-c405-3dfcebf97922"
      },
      "execution_count": 6,
      "outputs": [
        {
          "output_type": "stream",
          "name": "stdout",
          "text": [
            "Book: Python OOP\n"
          ]
        }
      ]
    },
    {
      "cell_type": "markdown",
      "source": [
        "#TQ6:- Explain the concept of inheritance in OOP.\n",
        "      - Inheritance is an important feature of Object-Oriented Programming that allows a class (child/derived class) to inherit properties and behaviors (methods and attributes) from another class (parent/base class).\n",
        "\n",
        "It promotes code reusability, reduces redundancy, and allows the creation of hierarchical class relationships.\n",
        "\n",
        "Types of Inheritance in Python:\n",
        "Single inheritance – One child inherits from one parent.\n",
        "\n",
        "Multiple inheritance – Child class inherits from multiple parents.\n",
        "\n",
        "Multilevel inheritance – A class inherits from a child class which itself inherits from another class.\n",
        "\n",
        "Hierarchical inheritance – Multiple child classes inherit from a single parent."
      ],
      "metadata": {
        "id": "S9jqqUbAAtii"
      }
    },
    {
      "cell_type": "code",
      "source": [
        "class Animal:\n",
        "    def speak(self):\n",
        "        print(\"Animal speaks\")\n",
        "\n",
        "class Dog(Animal):\n",
        "    def bark(self):\n",
        "        print(\"Dog barks\")\n",
        "\n",
        "d = Dog()\n",
        "d.speak()  # Inherited from Animal\n",
        "d.bark()   # Defined in Dog\n"
      ],
      "metadata": {
        "colab": {
          "base_uri": "https://localhost:8080/",
          "height": 0
        },
        "id": "2_W_tq2bA76C",
        "outputId": "8a68980a-726c-4aae-a930-7dd59670db4a"
      },
      "execution_count": 7,
      "outputs": [
        {
          "output_type": "stream",
          "name": "stdout",
          "text": [
            "Animal speaks\n",
            "Dog barks\n"
          ]
        }
      ]
    },
    {
      "cell_type": "markdown",
      "source": [
        "#TQ7: What is polymorphism in OOP?\n",
        "     - Polymorphism in Object-Oriented Programming means \"many forms\". It allows the same method or operation to behave differently depending on the context or the object on which it is called.\n",
        "\n",
        "In Python, polymorphism is commonly achieved through:\n",
        "\n",
        "Method Overriding – Subclass provides a specific implementation of a method defined in the parent class.\n",
        "\n",
        "Duck Typing – Python allows any object that has the required method to be used, regardless of its actual class."
      ],
      "metadata": {
        "id": "gsKiMAbqA5EJ"
      }
    },
    {
      "cell_type": "code",
      "source": [
        "#Example 1: Polymorphism through method overriding\n",
        "class Bird:\n",
        "    def fly(self):\n",
        "        print(\"Some birds can fly.\")\n",
        "\n",
        "class Sparrow(Bird):\n",
        "    def fly(self):\n",
        "        print(\"Sparrow flies high.\")\n",
        "\n",
        "class Penguin(Bird):\n",
        "    def fly(self):\n",
        "        print(\"Penguin can't fly.\")\n",
        "\n",
        "for bird in [Sparrow(), Penguin()]:\n",
        "    bird.fly()\n",
        "\n",
        "#Example 2: Duck Typing\n",
        "class Dog:\n",
        "    def sound(self):\n",
        "        print(\"Bark\")\n",
        "\n",
        "class Cat:\n",
        "    def sound(self):\n",
        "        print(\"Meow\")\n",
        "\n",
        "def make_sound(animal):\n",
        "    animal.sound()\n",
        "\n",
        "make_sound(Dog())\n",
        "make_sound(Cat())\n",
        "\n"
      ],
      "metadata": {
        "colab": {
          "base_uri": "https://localhost:8080/",
          "height": 0
        },
        "id": "N7kI3DqKBIUn",
        "outputId": "0313ed21-05d1-4e84-86ef-32a55f66cadb"
      },
      "execution_count": 9,
      "outputs": [
        {
          "output_type": "stream",
          "name": "stdout",
          "text": [
            "Sparrow flies high.\n",
            "Penguin can't fly.\n",
            "Bark\n",
            "Meow\n"
          ]
        }
      ]
    },
    {
      "cell_type": "markdown",
      "source": [
        "#TQ8:- How is encapsulation achieved in Python?\n",
        "      -Encapsulation is the concept of hiding internal object details and exposing only necessary parts through methods. It helps in protecting data from direct modification and maintaining control over how it's accessed or changed.\n",
        "\n",
        "In Python, encapsulation is achieved using:\n",
        "\n",
        "Public Members – Accessible from anywhere.\n",
        "→ No underscore (e.g., self.name)\n",
        "\n",
        "Protected Members – Meant for internal use, accessible in subclasses.\n",
        "→ Single underscore prefix (e.g., _balance)\n",
        "\n",
        "Private Members – Not directly accessible from outside the class.\n",
        "→ Double underscore prefix (e.g., __password)\n",
        "\n"
      ],
      "metadata": {
        "id": "x9hp9ZqmAthH"
      }
    },
    {
      "cell_type": "code",
      "source": [
        "class BankAccount:\n",
        "    def __init__(self, owner, balance):\n",
        "        self.owner = owner            # Public\n",
        "        self._balance = balance       # Protected\n",
        "        self.__password = \"1234\"      # Private\n",
        "\n",
        "    def deposit(self, amount):\n",
        "        self._balance += amount\n",
        "\n",
        "    def get_balance(self):\n",
        "        return self._balance\n",
        "\n",
        "account = BankAccount(\"Aditya\", 1000)\n",
        "print(account.get_balance())  # ✅ OK\n",
        "print(account._balance)       # ⚠️ Not recommended\n",
        "# print(account.__password)   # ❌ Error: private attribute\n"
      ],
      "metadata": {
        "colab": {
          "base_uri": "https://localhost:8080/",
          "height": 0
        },
        "id": "NbaEDY_TBj1a",
        "outputId": "6ee23160-6b0e-4c46-b612-f27e32be9222"
      },
      "execution_count": 10,
      "outputs": [
        {
          "output_type": "stream",
          "name": "stdout",
          "text": [
            "1000\n",
            "1000\n"
          ]
        }
      ]
    },
    {
      "cell_type": "markdown",
      "source": [
        "#TQ9:- What is a constructor in Python?\n",
        "      -A constructor in Python is a special method used to initialize objects when they are created from a class. It is defined using the __init__() method.\n",
        "\n",
        "This method is automatically called whenever a new object is created, and it allows you to set initial values for the object’s attributes.\n",
        " syntax:- class ClassName:\n",
        "    def __init__(self, parameters):\n",
        "        initialization code\n"
      ],
      "metadata": {
        "id": "rZCkon79Bl_J"
      }
    },
    {
      "cell_type": "code",
      "source": [
        "#Example\n",
        "class Person:\n",
        "    def __init__(self, name, age):\n",
        "        self.name = name\n",
        "        self.age = age\n",
        "\n",
        "p1 = Person(\"Aditya\", 22)\n",
        "print(p1.name)  # Output: Aditya\n",
        "print(p1.age)   # Output: 22\n"
      ],
      "metadata": {
        "colab": {
          "base_uri": "https://localhost:8080/",
          "height": 0
        },
        "id": "yLbWOFxiB5l6",
        "outputId": "5e285840-7a62-4e82-9aa5-3300a1b6d1c6"
      },
      "execution_count": 11,
      "outputs": [
        {
          "output_type": "stream",
          "name": "stdout",
          "text": [
            "Aditya\n",
            "22\n"
          ]
        }
      ]
    },
    {
      "cell_type": "markdown",
      "source": [
        "#TQ10:- What are class and static methods in Python?\n",
        "      - Python provides two types of methods that are not tied to object instances:\n",
        "\n",
        "1. Class Method (@classmethod)\n",
        "Works with the class itself, not an object.\n",
        "\n",
        "Takes cls as the first argument (not self).\n",
        "\n",
        "Used to access or modify class-level data.\n",
        "2. Static Method (@staticmethod)\n",
        "Does not take self or cls.\n",
        "\n",
        "Acts like a regular function placed inside a class.\n",
        "\n",
        "Used when method logic doesn't need access to class or instance data.\n",
        "\n",
        "| Method Type     | Decorator       | First Parameter | Accesses Class/Instance Data? |\n",
        "| --------------- | --------------- | --------------- | ----------------------------- |\n",
        "| Instance Method | None            | `self`          | Yes                           |\n",
        "| Class Method    | `@classmethod`  | `cls`           | Yes (class data)              |\n",
        "| Static Method   | `@staticmethod` | None            | No                            |\n"
      ],
      "metadata": {
        "id": "sMoHiC8pCFNQ"
      }
    },
    {
      "cell_type": "code",
      "source": [
        "#Example-1\n",
        "class Person:\n",
        "    count = 0\n",
        "\n",
        "    def __init__(self, name):\n",
        "        self.name = name\n",
        "        Person.count += 1\n",
        "\n",
        "    @classmethod\n",
        "    def get_count(cls):\n",
        "        return cls.count\n",
        "\n",
        "print(Person.get_count())  # Output: 0\n",
        "p1 = Person(\"Amit\")\n",
        "print(Person.get_count())  # Output: 1\n",
        "\n",
        "#Example-2\n",
        "class Math:\n",
        "    @staticmethod\n",
        "    def add(a, b):\n",
        "        return a + b\n",
        "\n",
        "print(Math.add(3, 5))  # Output: 8\n"
      ],
      "metadata": {
        "id": "vzHTzZhwCUrX"
      },
      "execution_count": null,
      "outputs": []
    },
    {
      "cell_type": "markdown",
      "source": [
        "#TQ11: What is method overloading in Python?\n",
        "       -Method Overloading is the ability to define multiple methods with the same name but different parameters (number or type). While many languages support true method overloading, Python does not support it directly.\n",
        "\n",
        "Instead, Python handles overloading by using default arguments or variable-length arguments (*args, **kwargs) in a single method definition.**bold text**"
      ],
      "metadata": {
        "id": "4u4Ch6XCCuW3"
      }
    },
    {
      "cell_type": "code",
      "source": [
        "#Simulating Method Overloading in Python:\n",
        "class Calculator:\n",
        "    def add(self, a=None, b=None, c=None):\n",
        "        if a is not None and b is not None and c is not None:\n",
        "            return a + b + c\n",
        "        elif a is not None and b is not None:\n",
        "            return a + b\n",
        "        else:\n",
        "            return \"Insufficient arguments\"\n",
        "\n",
        "calc = Calculator()\n",
        "print(calc.add(2, 3))        # Output: 5\n",
        "print(calc.add(1, 2, 3))     # Output: 6\n",
        "\n"
      ],
      "metadata": {
        "colab": {
          "base_uri": "https://localhost:8080/",
          "height": 0
        },
        "id": "zBRHQvEUE_8T",
        "outputId": "c171de76-4f40-41c4-ee04-8e4817f1e1d2"
      },
      "execution_count": 12,
      "outputs": [
        {
          "output_type": "stream",
          "name": "stdout",
          "text": [
            "5\n",
            "6\n"
          ]
        }
      ]
    },
    {
      "cell_type": "markdown",
      "source": [
        "#TQ12:- What is method overriding in OOP?\n",
        "       - Method Overriding is an OOP concept where a child (derived) class provides a specific implementation of a method that is already defined in its parent (base) class.\n",
        "\n",
        "It is used to modify or extend the behavior of an inherited method.\n",
        "\n",
        "🔹 Key Points:\n",
        "Method name and parameters must be the same as in the parent class.\n",
        "\n",
        "The child class's version overrides the parent's version.\n",
        "\n",
        "Enables runtime polymorphism."
      ],
      "metadata": {
        "id": "ugIXka6eFNkd"
      }
    },
    {
      "cell_type": "code",
      "source": [
        "# Example:\n",
        "class Animal:\n",
        "    def speak(self):\n",
        "        print(\"Animal speaks\")\n",
        "\n",
        "class Dog(Animal):\n",
        "    def speak(self):\n",
        "        print(\"Dog barks\")\n",
        "\n",
        "d = Dog()\n",
        "d.speak()  # Output: Dog barks\n"
      ],
      "metadata": {
        "colab": {
          "base_uri": "https://localhost:8080/",
          "height": 0
        },
        "id": "Q9gkE4r-FZPD",
        "outputId": "155dacff-e6e2-44af-fbb9-d52beb83053b"
      },
      "execution_count": 13,
      "outputs": [
        {
          "output_type": "stream",
          "name": "stdout",
          "text": [
            "Dog barks\n"
          ]
        }
      ]
    },
    {
      "cell_type": "markdown",
      "source": [
        "#TQ13:- What is a property decorator in Python?\n",
        "       -The @property decorator in Python is used to define a method as a property, so it can be accessed like an attribute. It allows you to encapsulate instance variables and provide controlled access to them.\n",
        "\n",
        "🔹 Why use @property?\n",
        "To make a method look like an attribute.\n",
        "\n",
        "To add logic when getting, setting, or deleting an attribute.\n",
        "\n",
        "To use getter, setter, and deleter functionalities cleanly.**bold text**"
      ],
      "metadata": {
        "id": "HLnTYP1qFgLE"
      }
    },
    {
      "cell_type": "code",
      "source": [
        "#Example\n",
        "class Student:\n",
        "    def __init__(self, name):\n",
        "        self._name = name\n",
        "\n",
        "    @property\n",
        "    def name(self):\n",
        "        print(\"Getting name...\")\n",
        "        return self._name\n",
        "\n",
        "    @name.setter\n",
        "    def name(self, value):\n",
        "        print(\"Setting name...\")\n",
        "        self._name = value\n",
        "\n",
        "s = Student(\"Aditya\")\n",
        "print(s.name)      # Access like an attribute → \"Getting name...\" → \"Aditya\"\n",
        "s.name = \"Rahul\"   # Set like an attribute → \"Setting name...\"\n"
      ],
      "metadata": {
        "colab": {
          "base_uri": "https://localhost:8080/",
          "height": 0
        },
        "id": "joyXCvlgFwTr",
        "outputId": "681032c3-597c-4dd9-ee87-fa8d4c9e0f22"
      },
      "execution_count": 14,
      "outputs": [
        {
          "output_type": "stream",
          "name": "stdout",
          "text": [
            "Getting name...\n",
            "Aditya\n",
            "Setting name...\n"
          ]
        }
      ]
    },
    {
      "cell_type": "markdown",
      "source": [
        "#TQ14:- Why is polymorphism important in OOP?\n",
        "       Polymorphism is important in Object-Oriented Programming because it allows objects of different classes to be treated as objects of a common base class, enabling flexibility, code reusability, and scalability.\n",
        "\n",
        "🔹 Key Benefits of Polymorphism:\n",
        "Code Reusability\n",
        "\n",
        "Same interface can be used for different underlying forms (data types or classes).\n",
        "\n",
        "No need to write duplicate code for each subclass.\n",
        "\n",
        "Flexibility & Extensibility\n",
        "\n",
        "You can change or extend the behavior of methods in subclasses without modifying the base class.\n",
        "\n",
        "Cleaner Code\n",
        "\n",
        "Simplifies function logic using a common method name, even if implementation differs across classes.\n",
        "\n",
        "Supports Dynamic Method Binding (Runtime Polymorphism)\n",
        "\n",
        "The method that gets called is determined at runtime based on the object’s type."
      ],
      "metadata": {
        "id": "2V7iXRkHF2yb"
      }
    },
    {
      "cell_type": "code",
      "source": [
        "class Animal:\n",
        "    def speak(self):\n",
        "        print(\"Animal speaks\")\n",
        "\n",
        "class Dog(Animal):\n",
        "    def speak(self):\n",
        "        print(\"Dog barks\")\n",
        "\n",
        "class Cat(Animal):\n",
        "    def speak(self):\n",
        "        print(\"Cat meows\")\n",
        "\n",
        "def make_sound(animal):\n",
        "    animal.speak()\n",
        "\n",
        "make_sound(Dog())  # Output: Dog barks\n",
        "make_sound(Cat())  # Output: Cat meows\n"
      ],
      "metadata": {
        "colab": {
          "base_uri": "https://localhost:8080/",
          "height": 0
        },
        "id": "Bua0XTaLGE9b",
        "outputId": "35288383-067a-4e6a-e3b8-39110ce87a66"
      },
      "execution_count": 15,
      "outputs": [
        {
          "output_type": "stream",
          "name": "stdout",
          "text": [
            "Dog barks\n",
            "Cat meows\n"
          ]
        }
      ]
    },
    {
      "cell_type": "markdown",
      "source": [
        "#TQ15:- What is an abstract class in Python?\n",
        "      - An abstract class in Python is a class that cannot be instantiated directly and is meant to be inherited by other classes. It can contain abstract methods, which are methods without implementation, forcing subclasses to provide their own versions.\n",
        "\n",
        "Python provides abstract class support through the abc module (abc stands for Abstract Base Classes).\n",
        "\n",
        "🔹 Key Features:\n",
        "Defined using the ABC class from the abc module.\n",
        "\n",
        "Abstract methods are marked with the @abstractmethod decorator.\n",
        "\n",
        "Cannot create objects of an abstract class.\n",
        "\n",
        "Ensures that derived classes implement certain methods.**bold text**\n",
        "\n"
      ],
      "metadata": {
        "id": "tIxHnC8QGH40"
      }
    },
    {
      "cell_type": "code",
      "source": [
        "#Example\n",
        "from abc import ABC, abstractmethod\n",
        "\n",
        "class Shape(ABC):\n",
        "    @abstractmethod\n",
        "    def area(self):\n",
        "        pass\n",
        "\n",
        "class Circle(Shape):\n",
        "    def area(self):\n",
        "        return 3.14 * 5 * 5\n",
        "\n",
        "# shape = Shape()  ❌ Error: can't instantiate abstract class\n",
        "circle = Circle()\n",
        "print(circle.area())  # Output: 78.5\n"
      ],
      "metadata": {
        "colab": {
          "base_uri": "https://localhost:8080/",
          "height": 0
        },
        "id": "NjQqDxIZGTYL",
        "outputId": "1a93d9fd-40fd-44f3-bf21-a1b1d68a815d"
      },
      "execution_count": 16,
      "outputs": [
        {
          "output_type": "stream",
          "name": "stdout",
          "text": [
            "78.5\n"
          ]
        }
      ]
    },
    {
      "cell_type": "markdown",
      "source": [
        "#TQ16:- What are the advantages of OOP?\n",
        "      - Object-Oriented Programming (OOP) offers several advantages that make it a powerful and widely used programming paradigm.\n",
        "       Key Advantages of OOP:\n",
        "Modularity\n",
        "\n",
        "Code is organized into separate classes, making it easier to manage and understand.\n",
        "\n",
        "Reusability\n",
        "\n",
        "Existing classes can be reused via inheritance without rewriting code.\n",
        "\n",
        "Encapsulation\n",
        "\n",
        "Data and methods are bundled together, protecting the internal state of objects and allowing controlled access.\n",
        "\n",
        "Polymorphism\n",
        "\n",
        "Same method name can be used for different types of objects, making code more flexible and general.\n",
        "\n",
        "Inheritance\n",
        "\n",
        "Enables creating hierarchies of classes and building on top of existing code.\n",
        "\n",
        "Scalability & Maintainability\n",
        "\n",
        "Large codebases become easier to extend and maintain by updating only relevant classes.\n",
        "\n",
        "Improved Collaboration\n",
        "\n",
        "OOP supports a clear structure that helps teams work collaboratively, focusing on different classes or modules.\n",
        "\n",
        "Real-World Modeling\n",
        "\n",
        "OOP allows you to model real-world entities more naturally using objects and classes.\n",
        "\n"
      ],
      "metadata": {
        "id": "Danzw53pGbCr"
      }
    },
    {
      "cell_type": "markdown",
      "source": [
        "#TQ17:- What is the difference between a class variable and an instance variable?\n",
        "      - | Feature            | **Class Variable**                                | **Instance Variable**                             |\n",
        "| ------------------ | ------------------------------------------------- | ------------------------------------------------- |\n",
        "| **Scope**          | Shared across **all instances** of the class      | Unique to **each object (instance)**              |\n",
        "| **Defined**        | Inside the class, **outside any method**          | Inside a method (usually `__init__`) using `self` |\n",
        "| **Accessed using** | `ClassName.variable_name` or `self.variable_name` | Only through `self.variable_name`                 |\n",
        "| **Purpose**        | To store common data for all objects              | To store data unique to each object               |\n"
      ],
      "metadata": {
        "id": "J4ywDxtGGnQa"
      }
    },
    {
      "cell_type": "code",
      "source": [
        "class Student:\n",
        "    school_name = \"ABC School\"  # Class variable\n",
        "\n",
        "    def __init__(self, name):\n",
        "        self.name = name        # Instance variable\n",
        "\n",
        "s1 = Student(\"Aditya\")\n",
        "s2 = Student(\"Rahul\")\n",
        "\n",
        "print(s1.school_name)   # Output: ABC School (shared)\n",
        "print(s2.name)          # Output: Rahul (unique)\n"
      ],
      "metadata": {
        "colab": {
          "base_uri": "https://localhost:8080/",
          "height": 0
        },
        "id": "8oOVoqjfG217",
        "outputId": "5bffd435-571a-4636-b101-431531caf7d7"
      },
      "execution_count": 17,
      "outputs": [
        {
          "output_type": "stream",
          "name": "stdout",
          "text": [
            "ABC School\n",
            "Rahul\n"
          ]
        }
      ]
    },
    {
      "cell_type": "markdown",
      "source": [
        "#TQ18: What is multiple inheritance in Python?\n",
        "      - Multiple Inheritance is a feature in Python where a child class inherits from more than one parent class. This allows the child class to access attributes and methods of all its parent classes.bold text"
      ],
      "metadata": {
        "id": "bP68EyXIG4rc"
      }
    },
    {
      "cell_type": "code",
      "source": [
        "#Example\n",
        "class Father:\n",
        "    def skills(self):\n",
        "        print(\"Gardening, Driving\")\n",
        "\n",
        "class Mother:\n",
        "    def skills(self):\n",
        "        print(\"Cooking, Painting\")\n",
        "\n",
        "class Child(Father, Mother):\n",
        "    def skills(self):\n",
        "        super().skills()\n",
        "        print(\"Programming\")\n",
        "\n",
        "c = Child()\n",
        "c.skills()\n"
      ],
      "metadata": {
        "colab": {
          "base_uri": "https://localhost:8080/",
          "height": 0
        },
        "id": "MyTN-G88HFur",
        "outputId": "47702e5a-a0b9-4d8b-bc70-c2eb21ac218b"
      },
      "execution_count": 20,
      "outputs": [
        {
          "output_type": "stream",
          "name": "stdout",
          "text": [
            "Gardening, Driving\n",
            "Programming\n"
          ]
        }
      ]
    },
    {
      "cell_type": "markdown",
      "source": [
        "#TQ19:- Explain the purpose of __str__ and __repr__ methods in Python.\n",
        "       -The __str__ and __repr__ methods in Python are special (dunder) methods used to define string representations of an object.\n",
        "\n",
        "🔹 __str__ Method:\n",
        "Called by the built-in str() function or print().\n",
        "\n",
        "Used to return a user-friendly, readable string.\n",
        "\n",
        "🔹 __repr__ Method:\n",
        "Called by the built-in repr() function or in interactive mode.\n",
        "\n",
        "Used to return an unambiguous, developer-focused string that ideally can be used to recreate the object.\n",
        "- summary: | Method     | Purpose                         | Called by             |\n",
        "| ---------- | ------------------------------- | --------------------- |\n",
        "| `__str__`  | User-friendly output            | `print()`, `str()`    |\n",
        "| `__repr__` | Developer-friendly, unambiguous | `repr()`, interpreter |\n",
        "\n",
        "     "
      ],
      "metadata": {
        "id": "4MubHx9lIENT"
      }
    },
    {
      "cell_type": "code",
      "source": [
        "#Example\n",
        "class Book:\n",
        "    def __init__(self, title, author):\n",
        "        self.title = title\n",
        "        self.author = author\n",
        "\n",
        "    def __str__(self):\n",
        "        return f\"{self.title} by {self.author}\"\n",
        "\n",
        "    def __repr__(self):\n",
        "        return f\"Book('{self.title}', '{self.author}')\"\n",
        "\n",
        "b = Book(\"Python 101\", \"Aditya\")\n",
        "print(str(b))    # Output: Python 101 by Aditya\n",
        "print(repr(b))   # Output: Book('Python 101', 'Aditya')\n"
      ],
      "metadata": {
        "colab": {
          "base_uri": "https://localhost:8080/",
          "height": 0
        },
        "id": "hk5PiyOdIZh7",
        "outputId": "b774ced9-abd9-4179-de86-6526ce673f60"
      },
      "execution_count": 21,
      "outputs": [
        {
          "output_type": "stream",
          "name": "stdout",
          "text": [
            "Python 101 by Aditya\n",
            "Book('Python 101', 'Aditya')\n"
          ]
        }
      ]
    },
    {
      "cell_type": "markdown",
      "source": [
        "#TQ20:- What is the significance of the super() function in Python?\n",
        "       - The super() function in Python is used to call methods of a parent (or superclass) from within a child (or subclass). It is especially useful in inheritance, particularly in method overriding and multiple inheritance scenarios.\n",
        "\n",
        "🔹 Why use super()?\n",
        "To reuse code from the parent class without hardcoding the class name.\n",
        "\n",
        "To ensure method resolution order (MRO) is respected in multiple inheritance.\n",
        "\n",
        "To avoid duplicating code in subclasses.\n",
        "\n"
      ],
      "metadata": {
        "id": "3LZ7wrCMIspj"
      }
    },
    {
      "cell_type": "code",
      "source": [
        "#Example: Single Inheritance\n",
        "class Parent:\n",
        "    def show(self):\n",
        "        print(\"This is the parent class.\")\n",
        "\n",
        "class Child(Parent):\n",
        "    def show(self):\n",
        "        super().show()       # calls Parent's show()\n",
        "        print(\"This is the child class.\")\n",
        "\n",
        "c = Child()\n",
        "c.show()\n",
        "\n",
        "#Example: Calling __init__ of Parent Class\n",
        "class Person:\n",
        "    def __init__(self, name):\n",
        "        self.name = name\n",
        "\n",
        "class Student(Person):\n",
        "    def __init__(self, name, grade):\n",
        "        super().__init__(name)   # initializes 'name' in Person\n",
        "        self.grade = grade\n",
        "\n"
      ],
      "metadata": {
        "colab": {
          "base_uri": "https://localhost:8080/",
          "height": 0
        },
        "id": "BIGO7rGsI-Hz",
        "outputId": "81008d63-00fa-481d-a84b-cbcf41fdbc1e"
      },
      "execution_count": 23,
      "outputs": [
        {
          "output_type": "stream",
          "name": "stdout",
          "text": [
            "This is the parent class.\n",
            "This is the child class.\n"
          ]
        }
      ]
    },
    {
      "cell_type": "markdown",
      "source": [
        "#TQ21:- What is the significance of the __del__ method in Python?\n",
        "       -The __del__() method in Python is a special (dunder) method known as the destructor. It is automatically called when an object is about to be destroyed or garbage collected.\n",
        "\n",
        "🔹 Purpose of __del__:\n",
        "To release resources, like closing files or network connections.\n",
        "\n",
        "To clean up memory or perform final actions before object deletion.\n",
        "\n"
      ],
      "metadata": {
        "id": "XFZpb04hJMsG"
      }
    },
    {
      "cell_type": "code",
      "source": [
        "#Example\n",
        "class FileHandler:\n",
        "    def __init__(self, filename):\n",
        "        self.file = open(filename, 'w')\n",
        "        print(\"File opened.\")\n",
        "\n",
        "    def __del__(self):\n",
        "        self.file.close()\n",
        "        print(\"File closed.\")\n",
        "\n",
        "f = FileHandler(\"test.txt\")\n",
        "del f  # Triggers __del__()\n"
      ],
      "metadata": {
        "colab": {
          "base_uri": "https://localhost:8080/",
          "height": 0
        },
        "id": "o-GsdTcKJhTL",
        "outputId": "5b1e06fc-80fb-4caa-8672-b760658ce7e9"
      },
      "execution_count": 24,
      "outputs": [
        {
          "output_type": "stream",
          "name": "stdout",
          "text": [
            "File opened.\n",
            "File closed.\n"
          ]
        }
      ]
    },
    {
      "cell_type": "markdown",
      "source": [
        "#TQ22:- What is the difference between @staticmethod and @classmethod in Python?\n",
        "       - Both @staticmethod and @classmethod are decorators used to define methods that don’t behave like regular instance methods, but they differ in how they interact with the class and its objects.\n",
        "\n",
        "🔹 @staticmethod:\n",
        "Does not take self or cls as the first parameter.\n",
        "\n",
        "Behaves like a normal function placed inside a class.\n",
        "\n",
        "Cannot access or modify class or instance data.\n",
        "\n",
        "Used when the method logic is related to the class but independent of class/object state.\n",
        " @classmethod:\n",
        "Takes cls as the first parameter.\n",
        "\n",
        "Can access and modify class variables.\n",
        "\n",
        "Used when you want to work with the class itself, not individual instances."
      ],
      "metadata": {
        "id": "PgUdhvqWJMo_"
      }
    },
    {
      "cell_type": "code",
      "source": [
        "#Example\n",
        "class Math:\n",
        "    @staticmethod\n",
        "    def add(a, b):\n",
        "        return a + b\n",
        "\n",
        "print(Math.add(5, 3))  # Output: 8\n",
        "\n",
        "#Example\n",
        "class Student:\n",
        "    count = 0\n",
        "\n",
        "    def __init__(self, name):\n",
        "        self.name = name\n",
        "        Student.count += 1\n",
        "\n",
        "    @classmethod\n",
        "    def get_count(cls):\n",
        "        return cls.count\n",
        "\n",
        "print(Student.get_count())  # Output: 0 (before object creation)\n",
        "s1 = Student(\"Aditya\")\n",
        "print(Student.get_count())  # Output: 1\n"
      ],
      "metadata": {
        "colab": {
          "base_uri": "https://localhost:8080/",
          "height": 0
        },
        "id": "Xj1W2vevJ6cE",
        "outputId": "d7669069-5db3-45bc-d884-8315c0c0e4ec"
      },
      "execution_count": 25,
      "outputs": [
        {
          "output_type": "stream",
          "name": "stdout",
          "text": [
            "8\n",
            "0\n",
            "1\n"
          ]
        }
      ]
    },
    {
      "cell_type": "markdown",
      "source": [
        "#TQ23:- How does polymorphism work in Python with inheritance?\n",
        "       -In Python, polymorphism with inheritance means that a subclass can override methods of a parent class, and objects of different subclasses can be used interchangeably through a common interface (usually the parent class).\n",
        "\n",
        "This is a core part of runtime polymorphism, where the method that gets executed depends on the actual object type, not the reference type.\n",
        "\n",
        "🔹 Key Concepts:\n",
        "Subclasses override methods from their superclass.\n",
        "\n",
        "A base class reference can point to any subclass object.\n",
        "\n",
        "Method calls are resolved dynamically at runtime.\n",
        "\n",
        ".\n",
        "\n",
        "🔹 Benefits:\n",
        "Simplifies code: Write functions that handle a variety of types.\n",
        "\n",
        "Extensibility: Add new subclasses without changing existing code.\n",
        "\n",
        "Flexibility: Behavior adapts based on object type at runtime.\n",
        "\n"
      ],
      "metadata": {
        "id": "00Az-q1tJMm9"
      }
    },
    {
      "cell_type": "code",
      "source": [
        "class Animal:\n",
        "    def make_sound(self):\n",
        "        print(\"Some generic sound\")\n",
        "\n",
        "class Dog(Animal):\n",
        "    def make_sound(self):\n",
        "        print(\"Bark\")\n",
        "\n",
        "class Cat(Animal):\n",
        "    def make_sound(self):\n",
        "        print(\"Meow\")\n",
        "\n",
        "# Polymorphic behavior\n",
        "def animal_sound(animal):\n",
        "    animal.make_sound()\n",
        "\n",
        "# Different subclass objects\n",
        "animal_sound(Dog())   # Output: Bark\n",
        "animal_sound(Cat())   # Output: Meow\n"
      ],
      "metadata": {
        "id": "AJpTbBkoKhbc"
      },
      "execution_count": null,
      "outputs": []
    },
    {
      "cell_type": "markdown",
      "source": [
        "#TQ24:- What is method chaining in Python OOP?\n",
        "       - Method chaining is a programming technique where multiple methods are called on the same object in a single line, one after another. In Python OOP, it is achieved by making each method return self, so that the next method can be called on the same object.\n",
        " Syntax Pattern:\n",
        "object.method1().method2().method3()\n",
        "Each method must return the object itself (self) to enable chaining.\n",
        "\n",
        "\n"
      ],
      "metadata": {
        "id": "jx4PF9I1KqWT"
      }
    },
    {
      "cell_type": "code",
      "source": [
        "class Person:\n",
        "    def __init__(self, name):\n",
        "        self.name = name\n",
        "        self.age = None\n",
        "        self.city = None\n",
        "\n",
        "    def set_age(self, age):\n",
        "        self.age = age\n",
        "        return self  # Enables chaining\n",
        "\n",
        "    def set_city(self, city):\n",
        "        self.city = city\n",
        "        return self  # Enables chaining\n",
        "\n",
        "    def show(self):\n",
        "        print(f\"{self.name}, {self.age}, {self.city}\")\n",
        "        return self  # Optional chaining\n",
        "\n",
        "# Using method chaining\n",
        "p = Person(\"Aditya\").set_age(22).set_city(\"Delhi\").show()\n"
      ],
      "metadata": {
        "id": "TOoH8mpCK0Hc"
      },
      "execution_count": null,
      "outputs": []
    },
    {
      "cell_type": "markdown",
      "source": [
        "#TQ25:-What is the purpose of the __call__ method in Python?\n",
        "      - The __call__() method in Python is a special (dunder) method that allows an object to be called like a function. When you write obj(), Python automatically calls obj.__call__().\n",
        "\n",
        "🔹 Purpose:\n",
        "To make an instance behave like a function.\n",
        "\n",
        "Useful in scenarios like function wrappers, decorators, or stateful functions."
      ],
      "metadata": {
        "id": "_fPlJIfkK7vd"
      }
    },
    {
      "cell_type": "code",
      "source": [
        "class Greeter:\n",
        "    def __init__(self, name):\n",
        "        self.name = name\n",
        "\n",
        "    def __call__(self):\n",
        "        print(f\"Hello, {self.name}!\")\n",
        "\n",
        "g = Greeter(\"Aditya\")\n",
        "g()  # Equivalent to g.__call__()\n"
      ],
      "metadata": {
        "colab": {
          "base_uri": "https://localhost:8080/",
          "height": 0
        },
        "id": "46UVtUHvLNGs",
        "outputId": "b6a2cffe-0142-4eba-b4f6-f08c95e37597"
      },
      "execution_count": 26,
      "outputs": [
        {
          "output_type": "stream",
          "name": "stdout",
          "text": [
            "Hello, Aditya!\n"
          ]
        }
      ]
    },
    {
      "cell_type": "markdown",
      "source": [
        "#OOPs Practicle Question:-"
      ],
      "metadata": {
        "id": "nLiWllrGMNc7"
      }
    },
    {
      "cell_type": "markdown",
      "source": [
        "#PQ1:- Create a parent class Animal with a method speak() that prints a generic message.\n",
        "     \n",
        "\n"
      ],
      "metadata": {
        "id": "vgdkOdwiN5-F"
      }
    },
    {
      "cell_type": "code",
      "source": [
        "# Parent class\n",
        "class Animal:\n",
        "    def speak(self):\n",
        "        print(\"This animal makes a sound.\")\n",
        "\n",
        "# Child class\n",
        "class Dog(Animal):\n",
        "    def speak(self):\n",
        "        print(\"Bark!\")\n",
        "\n",
        "# Testing both classes\n",
        "generic_animal = Animal()\n",
        "dog = Dog()\n",
        "\n",
        "# Calling the speak method\n",
        "generic_animal.speak()  # Output: This animal makes a sound.\n",
        "dog.speak()             # Output: Bark!\n"
      ],
      "metadata": {
        "colab": {
          "base_uri": "https://localhost:8080/",
          "height": 0
        },
        "id": "BjInrHgHODcL",
        "outputId": "3770c3ad-42ed-4ef2-9fed-0207a70cb5a5"
      },
      "execution_count": 27,
      "outputs": [
        {
          "output_type": "stream",
          "name": "stdout",
          "text": [
            "This animal makes a sound.\n",
            "Bark!\n"
          ]
        }
      ]
    },
    {
      "cell_type": "markdown",
      "source": [
        "#PQ2:-  Write a program to create an abstract class Shape with a method area().\n",
        "Derive classes Circle and Rectangle from it and implement the area() method in both."
      ],
      "metadata": {
        "id": "vnL8A-ygOGxU"
      }
    },
    {
      "cell_type": "code",
      "source": [
        "from abc import ABC, abstractmethod\n",
        "import math\n",
        "\n",
        "# Abstract base class\n",
        "class Shape(ABC):\n",
        "    @abstractmethod\n",
        "    def area(self):\n",
        "        pass  # Must be overridden\n",
        "\n",
        "# Subclass: Circle\n",
        "class Circle(Shape):\n",
        "    def __init__(self, radius):\n",
        "        self.radius = radius\n",
        "\n",
        "    def area(self):\n",
        "        return math.pi * self.radius * self.radius\n",
        "\n",
        "# Subclass: Rectangle\n",
        "class Rectangle(Shape):\n",
        "    def __init__(self, length, width):\n",
        "        self.length = length\n",
        "        self.width = width\n",
        "\n",
        "    def area(self):\n",
        "        return self.length * self.width\n",
        "\n",
        "# Testing\n",
        "c = Circle(5)\n",
        "r = Rectangle(4, 6)\n",
        "\n",
        "print(\"Circle Area:\", round(c.area(), 2))      # Output: Circle Area: 78.54\n",
        "print(\"Rectangle Area:\", r.area())             # Output: Rectangle Area: 24\n"
      ],
      "metadata": {
        "colab": {
          "base_uri": "https://localhost:8080/",
          "height": 0
        },
        "id": "1GJg1LV4OWdM",
        "outputId": "1647772e-e932-4e35-ab3e-39ee00e7cc56"
      },
      "execution_count": 28,
      "outputs": [
        {
          "output_type": "stream",
          "name": "stdout",
          "text": [
            "Circle Area: 78.54\n",
            "Rectangle Area: 24\n"
          ]
        }
      ]
    },
    {
      "cell_type": "markdown",
      "source": [
        "#PQ3:-Implement a multi-level inheritance scenario where:\n",
        "\n",
        "Class Vehicle has an attribute type.\n",
        "\n",
        "Class Car is derived from Vehicle.\n",
        "\n",
        "Class ElectricCar is further derived from Car and adds a battery attribute."
      ],
      "metadata": {
        "id": "3OU4ltNROaq2"
      }
    },
    {
      "cell_type": "code",
      "source": [
        "# Base class\n",
        "class Vehicle:\n",
        "    def __init__(self, vehicle_type):\n",
        "        self.vehicle_type = vehicle_type\n",
        "\n",
        "    def show_type(self):\n",
        "        print(f\"Vehicle Type: {self.vehicle_type}\")\n",
        "\n",
        "# First-level derived class\n",
        "class Car(Vehicle):\n",
        "    def __init__(self, vehicle_type, brand):\n",
        "        super().__init__(vehicle_type)\n",
        "        self.brand = brand\n",
        "\n",
        "    def show_brand(self):\n",
        "        print(f\"Car Brand: {self.brand}\")\n",
        "\n",
        "# Second-level derived class\n",
        "class ElectricCar(Car):\n",
        "    def __init__(self, vehicle_type, brand, battery_capacity):\n",
        "        super().__init__(vehicle_type, brand)\n",
        "        self.battery_capacity = battery_capacity\n",
        "\n",
        "    def show_details(self):\n",
        "        self.show_type()\n",
        "        self.show_brand()\n",
        "        print(f\"Battery Capacity: {self.battery_capacity} kWh\")\n",
        "\n",
        "# Testing\n",
        "e_car = ElectricCar(\"4-wheeler\", \"Tesla\", 75)\n",
        "e_car.show_details()\n"
      ],
      "metadata": {
        "colab": {
          "base_uri": "https://localhost:8080/"
        },
        "id": "BhWh-tvzPrM9",
        "outputId": "81a88015-425e-4427-9be8-1fdfc8f7e204"
      },
      "execution_count": 29,
      "outputs": [
        {
          "output_type": "stream",
          "name": "stdout",
          "text": [
            "Vehicle Type: 4-wheeler\n",
            "Car Brand: Tesla\n",
            "Battery Capacity: 75 kWh\n"
          ]
        }
      ]
    },
    {
      "cell_type": "markdown",
      "source": [
        "#PQ4:-  Demonstrate polymorphism by creating a base class Bird with a method fly().\n",
        "Create two derived classes Sparrow and Penguin that override the fly() method.\n",
        "\n"
      ],
      "metadata": {
        "id": "eU9FPRuxPuzb"
      }
    },
    {
      "cell_type": "code",
      "source": [
        "# Base class\n",
        "class Bird:\n",
        "    def fly(self):\n",
        "        print(\"Birds can fly in general.\")\n",
        "\n",
        "# Derived class 1\n",
        "class Sparrow(Bird):\n",
        "    def fly(self):\n",
        "        print(\"Sparrow flies high in the sky.\")\n",
        "\n",
        "# Derived class 2\n",
        "class Penguin(Bird):\n",
        "    def fly(self):\n",
        "        print(\"Penguins can't fly but can swim very well.\")\n",
        "\n",
        "# Polymorphism in action\n",
        "def test_flying(bird_obj):\n",
        "    bird_obj.fly()\n",
        "\n",
        "# Testing with different bird objects\n",
        "bird1 = Sparrow()\n",
        "bird2 = Penguin()\n",
        "\n",
        "test_flying(bird1)  # Output: Sparrow flies high in the sky.\n",
        "test_flying(bird2)  # Output: Penguins can't fly but can swim very well.\n"
      ],
      "metadata": {
        "colab": {
          "base_uri": "https://localhost:8080/"
        },
        "id": "pXAsrUy2P6QD",
        "outputId": "07b8ca7d-10ff-4a64-e3bc-6b9257a75100"
      },
      "execution_count": 30,
      "outputs": [
        {
          "output_type": "stream",
          "name": "stdout",
          "text": [
            "Sparrow flies high in the sky.\n",
            "Penguins can't fly but can swim very well.\n"
          ]
        }
      ]
    },
    {
      "cell_type": "markdown",
      "source": [
        "#PQ5:-Write a program to demonstrate encapsulation by creating a class BankAccount\n",
        "with private attributes balance and methods to deposit, withdraw, and check balance."
      ],
      "metadata": {
        "id": "EjIp17OdPuxU"
      }
    },
    {
      "cell_type": "code",
      "source": [
        "class BankAccount:\n",
        "    def __init__(self, owner, initial_balance=0):\n",
        "        self.owner = owner\n",
        "        self.__balance = initial_balance  # Private attribute\n",
        "\n",
        "    def deposit(self, amount):\n",
        "        if amount > 0:\n",
        "            self.__balance += amount\n",
        "            print(f\"₹{amount} deposited.\")\n",
        "        else:\n",
        "            print(\"Invalid deposit amount.\")\n",
        "\n",
        "    def withdraw(self, amount):\n",
        "        if 0 < amount <= self.__balance:\n",
        "            self.__balance -= amount\n",
        "            print(f\"₹{amount} withdrawn.\")\n",
        "        else:\n",
        "            print(\"Insufficient funds or invalid amount.\")\n",
        "\n",
        "    def get_balance(self):\n",
        "        return self.__balance\n",
        "\n",
        "# Testing\n",
        "acc = BankAccount(\"Aditya\", 1000)\n",
        "acc.deposit(500)             # ₹500 deposited.\n",
        "acc.withdraw(300)            # ₹300 withdrawn.\n",
        "print(\"Current Balance:\", acc.get_balance())  # Output: 1200\n",
        "\n",
        "# Trying to access private variable directly (will raise error)\n",
        "# print(acc.__balance)  ❌ AttributeError\n"
      ],
      "metadata": {
        "colab": {
          "base_uri": "https://localhost:8080/"
        },
        "id": "YwlHNkG1QL4z",
        "outputId": "d2d04458-38c4-4079-c1ab-a77ad374bb0e"
      },
      "execution_count": 31,
      "outputs": [
        {
          "output_type": "stream",
          "name": "stdout",
          "text": [
            "₹500 deposited.\n",
            "₹300 withdrawn.\n",
            "Current Balance: 1200\n"
          ]
        }
      ]
    },
    {
      "cell_type": "markdown",
      "source": [
        "#PQ6:- Demonstrate runtime polymorphism using a method play() in a base class Instrument.\n",
        "Derive classes Guitar and Piano that implement their own version of play()."
      ],
      "metadata": {
        "id": "-DPB-uZ9QNu0"
      }
    },
    {
      "cell_type": "code",
      "source": [
        "# Base class\n",
        "class Instrument:\n",
        "    def play(self):\n",
        "        print(\"An instrument is being played.\")\n",
        "\n",
        "# Derived class 1\n",
        "class Guitar(Instrument):\n",
        "    def play(self):\n",
        "        print(\"Strumming the guitar strings.\")\n",
        "\n",
        "# Derived class 2\n",
        "class Piano(Instrument):\n",
        "    def play(self):\n",
        "        print(\"Pressing piano keys gracefully.\")\n",
        "\n",
        "# Function demonstrating runtime polymorphism\n",
        "def perform(instrument_obj):\n",
        "    instrument_obj.play()\n",
        "\n",
        "# Testing\n",
        "g = Guitar()\n",
        "p = Piano()\n",
        "\n",
        "perform(g)  # Output: Strumming the guitar strings.\n",
        "perform(p)  # Output: Pressing piano keys gracefully.\n"
      ],
      "metadata": {
        "colab": {
          "base_uri": "https://localhost:8080/"
        },
        "id": "N6J7csmhQZzE",
        "outputId": "877b1db2-797d-4c7c-8833-86e79629361c"
      },
      "execution_count": 32,
      "outputs": [
        {
          "output_type": "stream",
          "name": "stdout",
          "text": [
            "Strumming the guitar strings.\n",
            "Pressing piano keys gracefully.\n"
          ]
        }
      ]
    },
    {
      "cell_type": "markdown",
      "source": [
        "#PQ7:-  Create a class MathOperations with:\n",
        "\n",
        "A class method add_numbers() to add two numbers.\n",
        "\n",
        "A static method subtract_numbers() to subtract two numbers.\n",
        "\n"
      ],
      "metadata": {
        "id": "thT08uNZQct9"
      }
    },
    {
      "cell_type": "code",
      "source": [
        "class MathOperations:\n",
        "    @classmethod\n",
        "    def add_numbers(cls, a, b):\n",
        "        result = a + b\n",
        "        print(f\"Sum: {result}\")\n",
        "        return result\n",
        "\n",
        "    @staticmethod\n",
        "    def subtract_numbers(a, b):\n",
        "        result = a - b\n",
        "        print(f\"Difference: {result}\")\n",
        "        return result\n",
        "\n",
        "# Testing the methods\n",
        "MathOperations.add_numbers(10, 5)        # Output: Sum: 15\n",
        "MathOperations.subtract_numbers(10, 5)   # Output: Difference: 5\n"
      ],
      "metadata": {
        "colab": {
          "base_uri": "https://localhost:8080/"
        },
        "id": "fPtxstoYQqK0",
        "outputId": "b5baafb1-3a49-49a0-b09f-088ef5d35a4a"
      },
      "execution_count": 33,
      "outputs": [
        {
          "output_type": "stream",
          "name": "stdout",
          "text": [
            "Sum: 15\n",
            "Difference: 5\n"
          ]
        },
        {
          "output_type": "execute_result",
          "data": {
            "text/plain": [
              "5"
            ]
          },
          "metadata": {},
          "execution_count": 33
        }
      ]
    },
    {
      "cell_type": "markdown",
      "source": [
        "#PQ8:-  Implement a class Person with a class method to count the total number of persons created.\n",
        "\n"
      ],
      "metadata": {
        "id": "C4nNgiI-QtGs"
      }
    },
    {
      "cell_type": "code",
      "source": [
        "class Person:\n",
        "    count = 0  # Class variable to keep track of instances\n",
        "\n",
        "    def __init__(self, name):\n",
        "        self.name = name\n",
        "        Person.count += 1  # Increment count whenever a new object is created\n",
        "\n",
        "    @classmethod\n",
        "    def get_total_persons(cls):\n",
        "        return cls.count\n",
        "\n",
        "# Creating Person objects\n",
        "p1 = Person(\"Aditya\")\n",
        "p2 = Person(\"Riya\")\n",
        "p3 = Person(\"Aman\")\n",
        "\n",
        "# Checking total persons created\n",
        "print(\"Total Persons:\", Person.get_total_persons())  # Output: Total Persons: 3\n"
      ],
      "metadata": {
        "colab": {
          "base_uri": "https://localhost:8080/"
        },
        "id": "zBrsKCsXQ364",
        "outputId": "9c60dbe9-02e1-4726-f1e6-97928385e08d"
      },
      "execution_count": 34,
      "outputs": [
        {
          "output_type": "stream",
          "name": "stdout",
          "text": [
            "Total Persons: 3\n"
          ]
        }
      ]
    },
    {
      "cell_type": "markdown",
      "source": [
        "#PQ9:-  Write a class Fraction with attributes numerator and denominator.\n",
        "Override the __str__ method to display the fraction as \"numerator/denominator\"."
      ],
      "metadata": {
        "id": "k0e-o4C2Q83l"
      }
    },
    {
      "cell_type": "code",
      "source": [
        "class Fraction:\n",
        "    def __init__(self, numerator, denominator):\n",
        "        self.numerator = numerator\n",
        "        self.denominator = denominator\n",
        "\n",
        "    def __str__(self):\n",
        "        return f\"{self.numerator}/{self.denominator}\"\n",
        "\n",
        "# Testing\n",
        "f1 = Fraction(3, 4)\n",
        "f2 = Fraction(7, 2)\n",
        "\n",
        "print(f1)  # Output: 3/4\n",
        "print(f2)  # Output: 7/2\n"
      ],
      "metadata": {
        "colab": {
          "base_uri": "https://localhost:8080/"
        },
        "id": "AZyVly-eRIhe",
        "outputId": "62398e1d-3b5c-42b7-b7a7-94704c51e49d"
      },
      "execution_count": 35,
      "outputs": [
        {
          "output_type": "stream",
          "name": "stdout",
          "text": [
            "3/4\n",
            "7/2\n"
          ]
        }
      ]
    },
    {
      "cell_type": "markdown",
      "source": [
        "#PQ10:- Demonstrate operator overloading by creating a class Vector and overriding the + operator to add two vectors."
      ],
      "metadata": {
        "id": "xe3qB7nIRMO8"
      }
    },
    {
      "cell_type": "code",
      "source": [
        "class Vector:\n",
        "    def __init__(self, x, y):\n",
        "        self.x = x\n",
        "        self.y = y\n",
        "\n",
        "    def __add__(self, other):\n",
        "        # Add corresponding x and y values\n",
        "        new_x = self.x + other.x\n",
        "        new_y = self.y + other.y\n",
        "        return Vector(new_x, new_y)\n",
        "\n",
        "    def __str__(self):\n",
        "        return f\"({self.x}, {self.y})\"\n",
        "\n",
        "# Testing\n",
        "v1 = Vector(2, 3)\n",
        "v2 = Vector(4, 1)\n",
        "result = v1 + v2\n",
        "\n",
        "print(\"Resultant Vector:\", result)  # Output: (6, 4)\n"
      ],
      "metadata": {
        "colab": {
          "base_uri": "https://localhost:8080/"
        },
        "id": "S3M0wpEDRVrb",
        "outputId": "1453575a-4dc2-4a1c-f26a-653f2c661062"
      },
      "execution_count": 36,
      "outputs": [
        {
          "output_type": "stream",
          "name": "stdout",
          "text": [
            "Resultant Vector: (6, 4)\n"
          ]
        }
      ]
    },
    {
      "cell_type": "markdown",
      "source": [
        "#PQ11:- Create a class Person with attributes name and age.\n",
        "Add a method greet() that prints:\n",
        "\"Hello, my name is {name} and I am {age} years old.\"\n",
        "\n"
      ],
      "metadata": {
        "id": "jBscBLH4RZnG"
      }
    },
    {
      "cell_type": "code",
      "source": [
        "class Person:\n",
        "    def __init__(self, name, age):\n",
        "        self.name = name\n",
        "        self.age = age\n",
        "\n",
        "    def greet(self):\n",
        "        print(f\"Hello, my name is {self.name} and I am {self.age} years old.\")\n",
        "\n",
        "# Testing\n",
        "p1 = Person(\"Aditya\", 22)\n",
        "p1.greet()\n"
      ],
      "metadata": {
        "colab": {
          "base_uri": "https://localhost:8080/"
        },
        "id": "82TrD-4rRg1L",
        "outputId": "7b57d2b7-5805-4220-9ee0-d88f8866b1ec"
      },
      "execution_count": 37,
      "outputs": [
        {
          "output_type": "stream",
          "name": "stdout",
          "text": [
            "Hello, my name is Aditya and I am 22 years old.\n"
          ]
        }
      ]
    },
    {
      "cell_type": "markdown",
      "source": [
        "#PQ12:- Implement a class Student with attributes name and grades.\n",
        "Create a method average_grade() to compute the average of the grades."
      ],
      "metadata": {
        "id": "Tq69tAI2RkOE"
      }
    },
    {
      "cell_type": "code",
      "source": [
        "class Student:\n",
        "    def __init__(self, name, grades):\n",
        "        self.name = name\n",
        "        self.grades = grades  # Expected to be a list of numbers\n",
        "\n",
        "    def average_grade(self):\n",
        "        if not self.grades:\n",
        "            return 0\n",
        "        return sum(self.grades) / len(self.grades)\n",
        "\n",
        "# Testing\n",
        "s1 = Student(\"Aditya\", [85, 90, 78, 92])\n",
        "s2 = Student(\"Riya\", [70, 80])\n",
        "\n",
        "print(f\"{s1.name}'s Average Grade:\", round(s1.average_grade(), 2))  # Output: ~86.25\n",
        "print(f\"{s2.name}'s Average Grade:\", round(s2.average_grade(), 2))  # Output: 75.0\n"
      ],
      "metadata": {
        "colab": {
          "base_uri": "https://localhost:8080/"
        },
        "id": "krfP6GReRs7T",
        "outputId": "ee9127df-f603-4ab4-b153-eca620e9f771"
      },
      "execution_count": 38,
      "outputs": [
        {
          "output_type": "stream",
          "name": "stdout",
          "text": [
            "Aditya's Average Grade: 86.25\n",
            "Riya's Average Grade: 75.0\n"
          ]
        }
      ]
    },
    {
      "cell_type": "markdown",
      "source": [
        "#PQ13:- Create a class Rectangle with methods:\n",
        "\n",
        "set_dimensions() to set the length and width\n",
        "\n",
        "area() to calculate and return the area\n",
        "\n"
      ],
      "metadata": {
        "id": "Tz9fKJ1HRkL-"
      }
    },
    {
      "cell_type": "code",
      "source": [
        "class Rectangle:\n",
        "    def __init__(self):\n",
        "        self.length = 0\n",
        "        self.width = 0\n",
        "\n",
        "    def set_dimensions(self, length, width):\n",
        "        self.length = length\n",
        "        self.width = width\n",
        "\n",
        "    def area(self):\n",
        "        return self.length * self.width\n",
        "\n",
        "# Testing\n",
        "rect = Rectangle()\n",
        "rect.set_dimensions(5, 4)\n",
        "print(\"Area of Rectangle:\", rect.area())  # Output: 20\n"
      ],
      "metadata": {
        "colab": {
          "base_uri": "https://localhost:8080/"
        },
        "id": "MM3KoiDwR5HV",
        "outputId": "433afd66-6190-4fdf-c115-134c0564bb17"
      },
      "execution_count": 39,
      "outputs": [
        {
          "output_type": "stream",
          "name": "stdout",
          "text": [
            "Area of Rectangle: 20\n"
          ]
        }
      ]
    },
    {
      "cell_type": "markdown",
      "source": [
        "#PQ14:-  Create a class Employee with a method calculate_salary() that computes the salary based on hours worked and hourly rate.\n",
        "Create a derived class Manager that adds a bonus to the salary."
      ],
      "metadata": {
        "id": "_VYWlIv1R9gE"
      }
    },
    {
      "cell_type": "code",
      "source": [
        "# Base class\n",
        "class Employee:\n",
        "    def __init__(self, name, hours_worked, hourly_rate):\n",
        "        self.name = name\n",
        "        self.hours_worked = hours_worked\n",
        "        self.hourly_rate = hourly_rate\n",
        "\n",
        "    def calculate_salary(self):\n",
        "        return self.hours_worked * self.hourly_rate\n",
        "\n",
        "# Derived class\n",
        "class Manager(Employee):\n",
        "    def __init__(self, name, hours_worked, hourly_rate, bonus):\n",
        "        super().__init__(name, hours_worked, hourly_rate)\n",
        "        self.bonus = bonus\n",
        "\n",
        "    def calculate_salary(self):\n",
        "        base_salary = super().calculate_salary()\n",
        "        return base_salary + self.bonus\n",
        "\n",
        "# Testing\n",
        "emp = Employee(\"Ravi\", 40, 200)\n",
        "mgr = Manager(\"Aditya\", 45, 300, 5000)\n",
        "\n",
        "print(f\"{emp.name}'s Salary:\", emp.calculate_salary())   # Output: 8000\n",
        "print(f\"{mgr.name}'s Salary:\", mgr.calculate_salary())   # Output: 18500\n"
      ],
      "metadata": {
        "colab": {
          "base_uri": "https://localhost:8080/"
        },
        "id": "R1kgX2TjSR1b",
        "outputId": "cba61b5e-60fb-4757-97a7-969120f81430"
      },
      "execution_count": 40,
      "outputs": [
        {
          "output_type": "stream",
          "name": "stdout",
          "text": [
            "Ravi's Salary: 8000\n",
            "Aditya's Salary: 18500\n"
          ]
        }
      ]
    },
    {
      "cell_type": "markdown",
      "source": [
        "#PQ15:-Create a class Product with attributes name, price, and quantity.\n",
        "Implement a method total_price() that calculates the total price of the product."
      ],
      "metadata": {
        "id": "i-vh3M96SbKV"
      }
    },
    {
      "cell_type": "code",
      "source": [
        "class Product:\n",
        "    def __init__(self, name, price, quantity):\n",
        "        self.name = name\n",
        "        self.price = price       # Price per unit\n",
        "        self.quantity = quantity # Total units\n",
        "\n",
        "    def total_price(self):\n",
        "        return self.price * self.quantity\n",
        "\n",
        "# Testing\n",
        "p1 = Product(\"Notebook\", 40, 5)\n",
        "p2 = Product(\"Pen\", 10, 12)\n",
        "\n",
        "print(f\"Total for {p1.name}: ₹{p1.total_price()}\")  # Output: ₹200\n",
        "print(f\"Total for {p2.name}: ₹{p2.total_price()}\")  # Output: ₹120\n"
      ],
      "metadata": {
        "id": "xWaxiLLFSgps"
      },
      "execution_count": null,
      "outputs": []
    },
    {
      "cell_type": "markdown",
      "source": [
        "#PQ16:- Create a class Animal with an abstract method sound().\n",
        "Create two derived classes Cow and Sheep that implement the sound() method."
      ],
      "metadata": {
        "id": "JJSBVN3DSnz8"
      }
    },
    {
      "cell_type": "code",
      "source": [
        "from abc import ABC, abstractmethod\n",
        "\n",
        "# Abstract base class\n",
        "class Animal(ABC):\n",
        "    @abstractmethod\n",
        "    def sound(self):\n",
        "        pass  # Must be implemented by child classes\n",
        "\n",
        "# Derived class 1\n",
        "class Cow(Animal):\n",
        "    def sound(self):\n",
        "        print(\"Cow says Moo\")\n",
        "\n",
        "# Derived class 2\n",
        "class Sheep(Animal):\n",
        "    def sound(self):\n",
        "        print(\"Sheep says Baa\")\n",
        "\n",
        "# Testing\n",
        "animals = [Cow(), Sheep()]\n",
        "for a in animals:\n",
        "    a.sound()\n"
      ],
      "metadata": {
        "colab": {
          "base_uri": "https://localhost:8080/"
        },
        "id": "S1R6hFFXSrzT",
        "outputId": "3a18568d-fab8-4b1d-86fc-807d87a685a4"
      },
      "execution_count": 41,
      "outputs": [
        {
          "output_type": "stream",
          "name": "stdout",
          "text": [
            "Cow says Moo\n",
            "Sheep says Baa\n"
          ]
        }
      ]
    },
    {
      "cell_type": "markdown",
      "source": [
        "#PQ17:- Create a class Book with attributes title, author, and year_published.\n",
        "Add a method get_book_info() that returns a formatted string with the book’s details."
      ],
      "metadata": {
        "id": "0mJglKZkSvJe"
      }
    },
    {
      "cell_type": "code",
      "source": [
        "class Book:\n",
        "    def __init__(self, title, author, year_published):\n",
        "        self.title = title\n",
        "        self.author = author\n",
        "        self.year_published = year_published\n",
        "\n",
        "    def get_book_info(self):\n",
        "        return f\"'{self.title}' by {self.author} ({self.year_published})\"\n",
        "\n",
        "# Testing\n",
        "b1 = Book(\"Python Basics\", \"Aditya Sen\", 2025)\n",
        "b2 = Book(\"OOP in Depth\", \"Riya Verma\", 2023)\n",
        "\n",
        "print(b1.get_book_info())  # Output: 'Python Basics' by Aditya Sen (2025)\n",
        "print(b2.get_book_info())  # Output: 'OOP in Depth' by Riya Verma (2023)\n"
      ],
      "metadata": {
        "colab": {
          "base_uri": "https://localhost:8080/"
        },
        "id": "srIZ7cscS4mO",
        "outputId": "c669d359-2447-4180-de03-ad9d2bc2b5d7"
      },
      "execution_count": 42,
      "outputs": [
        {
          "output_type": "stream",
          "name": "stdout",
          "text": [
            "'Python Basics' by Aditya Sen (2025)\n",
            "'OOP in Depth' by Riya Verma (2023)\n"
          ]
        }
      ]
    },
    {
      "cell_type": "markdown",
      "source": [
        "#PQ18:-  Create a class House with attributes address and price.\n",
        "Create a derived class Mansion that adds an attribute number_of_rooms."
      ],
      "metadata": {
        "id": "yeGjedQ8SvHF"
      }
    },
    {
      "cell_type": "code",
      "source": [
        "# Base class\n",
        "class House:\n",
        "    def __init__(self, address, price):\n",
        "        self.address = address\n",
        "        self.price = price\n",
        "\n",
        "    def show_info(self):\n",
        "        print(f\"Address: {self.address}\")\n",
        "        print(f\"Price: ₹{self.price}\")\n",
        "\n",
        "# Derived class\n",
        "class Mansion(House):\n",
        "    def __init__(self, address, price, number_of_rooms):\n",
        "        super().__init__(address, price)\n",
        "        self.number_of_rooms = number_of_rooms\n",
        "\n",
        "    def show_info(self):\n",
        "        super().show_info()\n",
        "        print(f\"Number of Rooms: {self.number_of_rooms}\")\n",
        "\n",
        "# Testing\n",
        "m1 = Mansion(\"Beverly Hills, LA\", 50000000, 12)\n",
        "m1.show_info()\n"
      ],
      "metadata": {
        "colab": {
          "base_uri": "https://localhost:8080/"
        },
        "id": "PI2lUOWnTDt0",
        "outputId": "43b7e091-93dc-473c-c117-d577da0f6d82"
      },
      "execution_count": 43,
      "outputs": [
        {
          "output_type": "stream",
          "name": "stdout",
          "text": [
            "Address: Beverly Hills, LA\n",
            "Price: ₹50000000\n",
            "Number of Rooms: 12\n"
          ]
        }
      ]
    }
  ]
}