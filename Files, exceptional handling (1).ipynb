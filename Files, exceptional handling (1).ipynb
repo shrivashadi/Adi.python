# %% [markdown]
# # Theory Question-:

# %% [markdown]
# #  Q1: What is the difference between interpreted and compiled languages?
#       - Interpreted languages execute code line by line using an interpreter, which makes debugging easier but slows down execution. Compiled languages, on the other hand, are first converted into machine code using a compiler, making them faster but harder to debug.
# Python is an interpreted language, while C/C++ are compiled languages.

# %% [markdown]
# # Q2: What is exception handling in Python?
#      - Exception handling in Python is a mechanism to handle runtime errors gracefully without crashing the program. It uses blocks like try, except, finally, and else to catch and manage exceptions.
# This ensures that the program can continue or fail safely with a proper  message.
# 

# %% [markdown]
# # Q3: What is the purpose of the finally block in exception handling?
#      - The finally block in Python is used to define cleanup actions that must be executed, whether an exception occurs or not.
# It is typically used to release resources like files or network connections, ensuring the program ends cleanly.
# 

# %% [markdown]
# # Q4: What is logging in Python?
#      - Logging in Python is the process of recording messages that describe events or errors during program execution.
# The logging module is used to track the flow of a program, making it easier to debug and maintain code, especially in large applications.

# %% [markdown]
# # Q5: What is the significance of the __del__ method in Python?
#      - The __del__ method is a destructor in Python, automatically called when an object is about to be destroyed.
# It is used to perform cleanup tasks like closing files or releasing memory before the object is deleted from memory.

# %% [markdown]
# # Q6: What is the difference between import and from ... import in Python?
#     - The import statement loads the entire module, and functions or classes must be accessed with the module name (e.g., math.sqrt).
# The from ... import statement imports specific components directly, allowing you to use them without the module prefix (e.g., from math import sqrt).
# 

# %% [markdown]
# #  Q7: How can you handle multiple exceptions in Python?
#       - Multiple exceptions in Python can be handled by using multiple except blocks or a single block with a tuple of exceptions.
# This allows the program to respond differently to various types of errors without crashing.

# %% [markdown]
# #  Q8: What is the purpose of the with statement when handling files in Python?
#       - The with statement simplifies file handling by automatically managing file opening and closing.
# It ensures the file is properly closed after its block is executed, even if an error occurs, which helps prevent memory leaks or file corruption.

# %% [markdown]
# # Q9: What is the difference between multithreading and multiprocessing?
#      - Multithreading runs multiple threads within the same process, sharing memory space, and is useful for I/O-bound tasks.
# Multiprocessing runs multiple processes with separate memory, ideal for CPU-bound tasks as it bypasses Python's GIL (Global Interpreter Lock) for better performance.

# %% [markdown]
# # Q10: What are the advantages of using logging in a program?
#       - Logging helps track events, errors, and the flow of a program without interrupting its execution.
# It improves debugging, maintains historical records, and supports different severity levels like DEBUG, INFO, WARNING, ERROR, and CRITICAL for better monitoring and maintence.

# %% [markdown]
# # Q11: What is memory management in Python?
#       - Memory management in Python involves allocating and freeing memory automatically using a built-in garbage collector.
# Python manages memory through reference counting and a cyclic garbage collector, ensuring efficient use of resources and preventing memory leaks.

# %% [markdown]
# #  Q12: What are the basic steps involved in exception handling in Python?
#        - The basic steps in exception handling are:
# 
# try block: Code that might raise an exception is placed here.
# 
# except block: Handles the exception if it occurs.
# 
# else block (optional): Runs if no exception occurs.
# 
# finally block (optional): Executes no matter what, used for cleanup tasks.

# %% [markdown]
# #  Q13: Why is memory management important in Python?
#        - Memory management is important in Python to ensure efficient use of system resources and avoid memory leaks.
# It helps in maintaining performance, preventing crashes, and allowing applications to scale without consuming excessive memory.

# %% [markdown]
# # Q14: What is the role of try and except in exception handling?
#       - The try block contains code that might raise an exception, while the except block defines how to handle specific errors.
# This structure prevents the program from crashing and allows it to respond gracefully to unexpected situations.

# %% [markdown]
# # Q15: How does Python’s garbage collection system work?
#       - Python’s garbage collection system automatically frees up memory by deleting objects that are no longer in use.
# It uses reference counting and a cyclic garbage collector to detect and clean up unreachable objects, ensuring efficient memory usage.

# %% [markdown]
# # Q16: What is the purpose of the else block in exception handling?
#       - The else block runs only if no exception occurs in the try block.
# It is used to place code that should execute only when the try block succeeds, helping separate normal logic from error-handling code.

# %% [markdown]
# #  Q17: What are the common logging levels in Python?
#        - Python provides five standard logging levels:
# 
# DEBUG (detailed info for debugging)
# 
# INFO (general events)
# 
# WARNING (something unexpected)
# 
# ERROR (serious issue)
# 
# CRITICAL (very severe error)

# %% [markdown]
# # Q18: What is the difference between os.fork() and multiprocessing in Python?
#       - os.fork() is used in Unix systems to create a child process by duplicating the current process.
# 
# multiprocessing is a Python module that works cross-platform and provides a higher-level API to create and manage multiple processes easily.

# %% [markdown]
# # Q19: What is the importance of closing a file in Python?
#       - Closing a file frees system resources, ensures all data is written (flushed) to the file, and prevents file corruption.
# Using file.close() or the with statement handles this properly.
# 
# 

# %% [markdown]
# # Q20: What is the difference between file.read() and file.readline() in Python?
#       - file.read() reads the entire file content as one string.
# 
# file.readline() reads only one line at a time, making it memory-efficient for large files.
# 
# 

# %% [markdown]
# # Q21: What is the logging module in Python used for?
#       - The logging module is used to record messages for tracking events, debugging, and error reporting during program execution.
# It supports different log levels and output formats.

# %% [markdown]
# #  Q22: What is the os module in Python used for in file handling?
#        - The os module provides functions to interact with the operating system, such as file creation, deletion, renaming, path checking, and directory management.

# %% [markdown]
# #  Q23: What are the challenges associated with memory management in Python?
#        - Challenges include:
# 
# Circular references not immediately cleaned by reference counting
# 
# Memory leaks due to unused but still referenced objects
# 
# Manual resource cleanup is sometimes needed despite automatic management
# 
# 

# %% [markdown]
# # Q24: How do you raise an exception manually in Python?
#       - ou can raise an exception using the raise keyword followed by the exception type.
# Example:
# raise ValueError("Invalid input")

# %% [markdown]
# # Q25: Why is it important to use multithreading in certain applications?
#       - Multithreading improves performance in I/O-bound tasks by allowing multiple operations to run concurrently, like file access, network requests, or user interface responsiveness.
# 
# 

# %% [markdown]
# # Practicle Question:-

# %% [markdown]
# # Q1. How can you open a file for writing in Python and write a string to it?

# %%
# Open a file in write mode and write a string to it
file_path = "example.txt"

with open(file_path, "w") as file:
    file.write("Hello, this is the first line written to the file!")

print("String written to the file successfully.")


# %% [markdown]
# #  Q2. Write a Python program to read the contents of a file and print each line.
# 
# 

# %%
# File ka naam hai example.txt
try:
    f = open("example.txt", "r")
    for i in f:
        print(i.strip())
    f.close()
except FileNotFoundError:
    print("File nahi mili.")


# %% [markdown]
# # Q3: "How would you handle a case where the file doesn’t exist while trying to open it for reading?"

# %%
# File ko read karne ki koshish kar rahe hain, agar nahi mile to error handle hoga
try:
    f = open("data.txt", "r")
    content = f.read()
    print(content)
    f.close()
except FileNotFoundError:
    print("File nahi mili. Naam ya location check karo.")


# %% [markdown]
# #  Q4: "Write a Python script that reads from one file and writes its content to another file."

# %%
# Ek file se data read karke dusri file me likh rahe hain
try:
    source = open("input.txt", "r")
    destination = open("output.txt", "w")

    for line in source:
        destination.write(line)

    source.close()
    destination.close()

    print("File ka content successfully copy ho gaya.")
except FileNotFoundError:
    print("Source file nahi mili.")


# %% [markdown]
# # Q5: "How would you catch and handle division by zero error in Python?"

# %%
# Division by zero error ko handle karne wala simple program
try:
    a = 10
    b = 0
    result = a / b
    print("Result:", result)
except ZeroDivisionError:
    print("Error: Zero se divide nahi kar sakte.")


# %% [markdown]
# # Q6: "Write a Python program that logs an error message to a log file when a division by zero exception occurs."

# %%
# Division by zero error ko log file me record karne wala program
import logging

# Logging setup
logging.basicConfig(filename='error.log', level=logging.ERROR)

try:
    x = 5
    y = 0
    z = x / y
except ZeroDivisionError as e:
    logging.error("Division by zero hua: %s", e)
    print("Error log file me likh diya gaya hai.")


# %% [markdown]
# # Q7: "How do you log information at different levels (INFO, ERROR, WARNING) in Python using the logging module?"
# 
# 

# %%
import logging

# Set up logging configuration
logging.basicConfig(filename='log_levels.log', level=logging.DEBUG)

logging.info("This is an INFO message.")
logging.warning("This is a WARNING message.")
logging.error("This is an ERROR message.")


# %% [markdown]
# #  Q8: "Write a program to handle a file opening error using exception handling."

# %%
# Program to handle file opening error using try-except
try:
    file = open("unknown_file.txt", "r")
    content = file.read()
    print(content)
    file.close()
except FileNotFoundError:
    print("Error: The file you are trying to open does not exist.")


# %% [markdown]
# #  Q9: "How can you read a file line by line and store its content in a list in Python?"

# %%
# Reading a file line by line and storing each line in a list
try:
    with open("data.txt", "r") as file:
        lines = [line.strip() for line in file]

    print("File content as list:")
    print(lines)
except FileNotFoundError:
    print("Error: The file does not exist.")


# %% [markdown]
# #  Q10: "How can you append data to an existing file in Python?"

# %%
# Appending data to an existing file
try:
    with open("data.txt", "a") as file:
        file.write("\nThis is a new line added to the file.")

    print("Data appended successfully.")
except FileNotFoundError:
    print("Error: The file you are trying to append to does not exist.")


# %% [markdown]
# #  Q11: "Write a Python program that uses a try-except block to handle an error when attempting to access a dictionary key that doesn’t exist."
# 
# 

# %%
# Handling KeyError using try-except
data = {
    "name": "Aditya",
    "age": 22
}

try:
    print("City:", data["city"])
except KeyError:
    print("Error: The key 'city' does not exist in the dictionary.")


# %% [markdown]
# # Q12: "Write a program that demonstrates using multiple except blocks to handle different types of exceptions."

# %%
# Program with multiple except blocks
try:
    a = int(input("Enter a number: "))
    b = int(input("Enter another number: "))
    result = a / b
    print("Result:", result)
except ValueError:
    print("Error: Please enter only numbers.")
except ZeroDivisionError:
    print("Error: Division by zero is not allowed.")
except Exception as e:
    print("An unexpected error occurred:", e)


# %% [markdown]
# #Q13: "How would you check if a file exists before attempting to read it in Python?

# %%
import os

file_path = "sample.txt"

if os.path.exists(file_path):
    with open(file_path, "r") as file:
        content = file.read()
        print("File content:\n", content)
else:
    print("The file does not exist.")


# %% [markdown]
# # Q14: "Write a program that uses the logging module to log both informational and error messages."

# %%
import logging

# Configure logging
logging.basicConfig(filename='app_log.log', level=logging.INFO)

def divide(x, y):
    try:
        result = x / y
        logging.info(f"Division successful: {x} / {y} = {result}")
        return result
    except ZeroDivisionError as e:
        logging.error(f"Error occurred during division: {e}")
        return None

# Test cases
divide(10, 2)
divide(5, 0)


# %% [markdown]
# #  Q15: "Write a Python program that prints the content of a file and handles the case when the file is empty."

# %%
# Program to read and check if the file is empty
try:
    with open("notes.txt", "r") as file:
        content = file.read()

        if content.strip() == "":
            print("The file is empty.")
        else:
            print("File content:\n", content)

except FileNotFoundError:
    print("Error: The file does not exist.")


# %% [markdown]
# #  Q16: "Demonstrate how to use memory profiling to check the memory usage of a small program."
# 
# 

# %%
!pip install -U memory_profiler


# %%
%load_ext memory_profiler


# %%
def create_list():
    data = [i for i in range(100000)]
    return data


# %%
%memit create_list()


# %% [markdown]
# #  Q17: "Write a Python program to create and write a list of numbers to a file, one number per line."

# %%
# Program to write a list of numbers to a file (one per line)
numbers = [10, 20, 30, 40, 50]

with open("numbers.txt", "w") as file:
    for num in numbers:
        file.write(str(num) + "\n")

print("Numbers written to file successfully.")


# %% [markdown]
# #  Q18: "Write a Python program to read a file containing numbers (one per line) and calculate their sum

# %%
# Program to read numbers from a file and calculate their sum
total = 0

try:
    with open("numbers.txt", "r") as file:
        for line in file:
            total += int(line.strip())

    print("Sum of numbers:", total)

except FileNotFoundError:
    print("Error: The file does not exist.")
except ValueError:
    print("Error: File contains non-numeric data.")


# %% [markdown]
# # Q19: "Write a Python program to count the number of lines, words, and characters in a file."
# 
# 

# %%
from google.colab import files
uploaded = files.upload()

# %%
try:
    with open("sample.txt1.txt", "r") as file:
        lines = file.readlines()

    line_count = len(lines)
    word_count = sum(len(line.split()) for line in lines)
    char_count = sum(len(line) for line in lines)

    print("Total lines:", line_count)
    print("Total words:", word_count)
    print("Total characters:", char_count)

except FileNotFoundError:
    print("Error: The file does not exist.")


# %% [markdown]
# # Q20: "Write a Python program to copy the contents of one file to another."

# %%
from google.colab import files
uploaded = files.upload()

# %%
# Program to copy contents from one file to another
try:
    with open("simple.py1.txt", "r") as source_file:
        content = source_file.read()

    with open("destination.txt", "w") as dest_file:
        dest_file.write(content)

    print("File copied successfully.")

except FileNotFoundError:
    print("Error: Source file does not exist.")


# %% [markdown]
# #  Q21: "Write a Python program that reads a file and displays only the lines that are not empty."

# %%
from google.colab import files
uploaded = files.upload()

# %%
# Program to read a file and print only non-empty lines
try:
    with open("sample.pyo", "r") as file:
        for line in file:
            if line.strip():  # Check if line is not empty after removing spaces/newlines
                print(line.strip())
except FileNotFoundError:
    print("Error: The file does not exist.")


# %% [markdown]
# # Q22: "Write a Python program to merge two text files into a third file."

# %%
from google.colab import files
uploaded = files.upload()

# %%
from google.colab import files
uploaded = files.upload()

# %%
# Program to merge two files into a third file
try:
    with open("File1.txt", "r") as f1, open("File2.txt", "r") as f2:
        content1 = f1.read()
        content2 = f2.read()

    with open("merged_file.txt", "w") as merged:
        merged.write(content1 + "\n" + content2)

    print("Files merged successfully into 'merged_file.txt'.")

except FileNotFoundError:
    print("Error: One or both input files do not exist.")


# %%
from google.colab import files
files.download("merged_file.txt")

# %% [markdown]
# # Q23: "Write a Python program to count the number of lines, words, and characters in a text file."

# %%
from google.colab import files
uploaded = files.upload()

# %%
# Program to count lines, words, and characters in a file
try:
    with open("txt.file2.txt", "r") as file:
        lines = file.readlines()

    line_count = len(lines)
    word_count = sum(len(line.split()) for line in lines)
    char_count = sum(len(line) for line in lines)

    print(f"Total Lines     : {line_count}")
    print(f"Total Words     : {word_count}")
    print(f"Total Characters: {char_count}")

except FileNotFoundError:
    print("Error: File 'sample.txt' not found.")



