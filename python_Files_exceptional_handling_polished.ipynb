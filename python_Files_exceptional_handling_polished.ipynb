{
 "cells": [
  {
   "cell_type": "markdown",
   "id": "8a5e00f7",
   "metadata": {},
   "source": [
    "# Python — Files & Exception Handling (Polished)\n",
    "**Student:** Aditya Sen\n",
    "\n",
    "**Notes:** maine original notebook ko clean karke kuch improvements add kiye hain:\n",
    "- Har code cell ke upar short comment heading add kiya gaya hai.\n",
    "- Ek `logging` example cell add kiya gaya hai.\n",
    "- Generic exception handling example add kiya gaya hai.\n",
    "\n",
    "_Note: Maine original code ko modify kam kiya hai taaki koi unintended runtime errors na aaye. Agar tum chahte ho main specific `open()`/`close()` patterns ko `with` context mei automatically convert kar doon, bol dena._\n"
   ]
  },
  {
   "cell_type": "code",
   "execution_count": null,
   "id": "78bab3de",
   "metadata": {},
   "outputs": [],
   "source": [
    "\n",
    "# Example: Proper logging setup and generic exception handling\n",
    "import logging\n",
    "import traceback\n",
    "\n",
    "logging.basicConfig(filename='assignment_errors.log',\n",
    "                    level=logging.DEBUG,\n",
    "                    format='%(asctime)s - %(levelname)s - %(message)s')\n",
    "\n",
    "def safe_divide(a, b):\n",
    "    try:\n",
    "        return a / b\n",
    "    except ZeroDivisionError as e:\n",
    "        logging.error(\"Division by zero: %s\", e)\n",
    "        return None\n",
    "    except Exception as e:\n",
    "        # Catch any other unexpected error, log traceback\n",
    "        logging.error(\"Unexpected error in safe_divide: %s\", traceback.format_exc())\n",
    "        return None\n",
    "\n",
    "print(\"safe_divide(10, 2) ->\", safe_divide(10, 2))\n",
    "print(\"safe_divide(5, 0) ->\", safe_divide(5, 0))\n"
   ]
  },
  {
   "cell_type": "markdown",
   "id": "28acf056",
   "metadata": {},
   "source": [
    "\n",
    "## Best practices added / suggested\n",
    "- `with open(...) as f:` ka use karo — yeh file ko automatically close kar deta hai.\n",
    "- Specific exceptions (`FileNotFoundError`, `ZeroDivisionError`) ko catch karo, phir zarurat pade to generic `Exception` use karo aur traceback log karo.\n",
    "- Assignment submit karne se pehle `assignment_errors.log` aur output cells check kar lo.\n"
   ]
  },
  {
   "cell_type": "markdown",
   "id": "f7d9f39b",
   "metadata": {
    "id": "cNMzEMegM8A7"
   },
   "source": [
    "# Theory Question-:"
   ]
  },
  {
   "cell_type": "markdown",
   "id": "7de53277",
   "metadata": {
    "id": "8-GjQafNRX2i"
   },
   "source": [
    "#  Q1: What is the difference between interpreted and compiled languages?\n",
    "      -Interpreted languages execute code line by line using an interpreter, which makes debugging easier but slows down execution. Compiled languages, on the other hand, are first converted into machine code using a compiler, making them faster but harder to debug.\n",
    "      Python is an interpreted language, while C/C++ are compiled languages."
   ]
  },
  {
   "cell_type": "markdown",
   "id": "070a6ad2",
   "metadata": {
    "id": "dJ5J3Y2YR7A4"
   },
   "source": [
    "# Q2: What is exception handling in Python?\n",
    "     - Exception handling in Python is a mechanism to handle runtime errors gracefully without crashing the program. It uses blocks like try, except, finally, and else to catch and manage exceptions.\n",
    "     This ensures that the program can continue or fail safely with a proper  message.\n"
   ]
  },
  {
   "cell_type": "markdown",
   "id": "6425006e",
   "metadata": {
    "id": "vlvfili3SLYR"
   },
   "source": [
    "# Q3: What is the purpose of the finally block in exception handling?\n",
    "     - The finally block in Python is used to define cleanup actions that must be executed, whether an exception occurs or not.\n",
    "     It is typically used to release resources like files or network connections, ensuring the program ends cleanly.\n"
   ]
  },
  {
   "cell_type": "markdown",
   "id": "0ca7c36b",
   "metadata": {
    "id": "s46rXv7GSedi"
   },
   "source": [
    "# Q4: What is logging in Python?\n",
    "     - Logging in Python is the process of recording messages that describe events or errors during program execution.\n",
    "     The logging module is used to track the flow of a program, making it easier to debug and maintain code, especially in large applications."
   ]
  },
  {
   "cell_type": "markdown",
   "id": "962edf0e",
   "metadata": {
    "id": "WhPuIvHGSoCB"
   },
   "source": [
    "# Q5: What is the significance of the __del__ method in Python?\n",
    "     - The __del__ method is a destructor in Python, automatically called when an object is about to be destroyed.\n",
    "     It is used to perform cleanup tasks like closing files or releasing memory before the object is deleted from memory."
   ]
  },
  {
   "cell_type": "markdown",
   "id": "83599746",
   "metadata": {
    "id": "G36akjaHSv3Z"
   },
   "source": [
    "# Q6: What is the difference between import and from ... import in Python?\n",
    "    - The import statement loads the entire module, and functions or classes must be accessed with the module name (e.g., math.sqrt).\n",
    "    The from ... import statement imports specific components directly, allowing you to use them without the module prefix (e.g., from math import sqrt).\n"
   ]
  },
  {
   "cell_type": "markdown",
   "id": "97c0343b",
   "metadata": {
    "id": "aWXiTPkmS9mB"
   },
   "source": [
    "#  Q7: How can you handle multiple exceptions in Python?\n",
    "      - Multiple exceptions in Python can be handled by using multiple except blocks or a single block with a tuple of exceptions.\n",
    "      This allows the program to respond differently to various types of errors without crashing."
   ]
  },
  {
   "cell_type": "markdown",
   "id": "5c2ab894",
   "metadata": {
    "id": "IbPpgp8pTdAB"
   },
   "source": [
    "#  Q8: What is the purpose of the with statement when handling files in Python?\n",
    "      - The with statement simplifies file handling by automatically managing file opening and closing.\n",
    "      It ensures the file is properly closed after its block is executed, even if an error occurs, which helps prevent memory leaks or file corruption."
   ]
  },
  {
   "cell_type": "markdown",
   "id": "62268572",
   "metadata": {
    "id": "dB9StQsKTmoo"
   },
   "source": [
    "# Q9: What is the difference between multithreading and multiprocessing?\n",
    "     - Multithreading runs multiple threads within the same process, sharing memory space, and is useful for I/O-bound tasks.\n",
    "     Multiprocessing runs multiple processes with separate memory, ideal for CPU-bound tasks as it bypasses Python's GIL (Global Interpreter Lock) for better performance."
   ]
  },
  {
   "cell_type": "markdown",
   "id": "78402e86",
   "metadata": {
    "id": "HtQCRuGvT3UP"
   },
   "source": [
    "# Q10: What are the advantages of using logging in a program?\n",
    "      - Logging helps track events, errors, and the flow of a program without interrupting its execution.\n",
    "      It improves debugging, maintains historical records, and supports different severity levels like DEBUG, INFO, WARNING, ERROR, and CRITICAL for better monitoring and maintence."
   ]
  },
  {
   "cell_type": "markdown",
   "id": "b261a391",
   "metadata": {
    "id": "SGGgQtqmVZ53"
   },
   "source": [
    "# Q11: What is memory management in Python?\n",
    "      - Memory management in Python involves allocating and freeing memory automatically using a built-in garbage collector.\n",
    "      Python manages memory through reference counting and a cyclic garbage collector, ensuring efficient use of resources and preventing memory leaks."
   ]
  },
  {
   "cell_type": "markdown",
   "id": "659f4bdb",
   "metadata": {
    "id": "euIeu24FVjjH"
   },
   "source": [
    "#  Q12: What are the basic steps involved in exception handling in Python?\n",
    "       - The basic steps in exception handling are:\n",
    "\n",
    "        try block: Code that might raise an exception is placed here.\n",
    "\n",
    "        except block: Handles the exception if it occurs.\n",
    "\n",
    "        e lse block (optional): Runs if no exception occurs.\n",
    "\n",
    "        finally block (optional): Executes no matter what, used for cleanup tasks."
   ]
  },
  {
   "cell_type": "markdown",
   "id": "5ef15866",
   "metadata": {
    "id": "xzfvC2SwVst8"
   },
   "source": [
    "#  Q13: Why is memory management important in Python?\n",
    "       - Memory management is important in Python to ensure efficient use of system resources and avoid memory leaks.\n",
    "       It helps in maintaining performance, preventing crashes, and allowing applications to scale without consuming excessive memory."
   ]
  },
  {
   "cell_type": "markdown",
   "id": "f34be597",
   "metadata": {
    "id": "DQinf-gnV7D2"
   },
   "source": [
    "# Q14: What is the role of try and except in exception handling?\n",
    "      - The try block contains code that might raise an exception, while the except block defines how to handle specific errors.\n",
    "      This structure prevents the program from crashing and allows it to respond gracefully to unexpected situations."
   ]
  },
  {
   "cell_type": "markdown",
   "id": "4ffc648b",
   "metadata": {
    "id": "FO6_2hxwWFo9"
   },
   "source": [
    "# Q15: How does Python’s garbage collection system work?\n",
    "      - Python’s garbage collection system automatically frees up memory by deleting objects that are no longer in use.\n",
    "      It uses reference counting and a cyclic garbage collector to detect and clean up unreachable objects, ensuring efficient memory usage."
   ]
  },
  {
   "cell_type": "markdown",
   "id": "5b7652ba",
   "metadata": {
    "id": "zA_J5aRtWQx0"
   },
   "source": [
    "# Q16: What is the purpose of the else block in exception handling?\n",
    "      - The else block runs only if no exception occurs in the try block.\n",
    "        is used to place code that should execute only when the try block succeeds, helping separate normal logic from error-handling code."
   ]
  },
  {
   "cell_type": "markdown",
   "id": "c2f67c93",
   "metadata": {
    "id": "v9aCprw_WfKE"
   },
   "source": [
    "#  Q17: What are the common logging levels in Python?\n",
    "       - Python provides five standard logging levels:\n",
    "\n",
    "        DEBUG (detailed info for debugging)\n",
    "\n",
    "        INFO (general events)\n",
    "\n",
    "        WARNING (something unexpected)\n",
    "\n",
    "       ERROR (serious issue)\n",
    "\n",
    "       CRITICAL (very severe error)"
   ]
  },
  {
   "cell_type": "markdown",
   "id": "2b26e581",
   "metadata": {
    "id": "6LohPy75Wnhk"
   },
   "source": [
    "# Q18: What is the difference between os.fork() and multiprocessing in Python?\n",
    "      - os.fork() is used in Unix systems to create a child process by          duplicating the current process.\n",
    "\n",
    "       multiprocessing is a Python module that works cross-platform and provides a higher-level API to create and manage multiple processes easily."
   ]
  },
  {
   "cell_type": "markdown",
   "id": "5cba93c4",
   "metadata": {
    "id": "UPtuhMb4WzEV"
   },
   "source": [
    "# Q19: What is the importance of closing a file in Python?\n",
    "      - Closing a file frees system resources, ensures all data is written    (flushed) to the file, and prevents file corruption.\n",
    "      Using file.close() or the with statement handles this properly.\n",
    "\n"
   ]
  },
  {
   "cell_type": "markdown",
   "id": "41a6f561",
   "metadata": {
    "id": "r6_OaEDAXH2W"
   },
   "source": [
    "# Q20: What is the difference between file.read() and file.readline() in Python?\n",
    "      - file.read() reads the entire file content as one string.\n",
    "\n",
    "        file.readline() reads only one line at a time, making it memory-efficient for large files.\n",
    "\n"
   ]
  },
  {
   "cell_type": "markdown",
   "id": "dce934d2",
   "metadata": {
    "id": "o4s7JYv4XUw0"
   },
   "source": [
    "# Q21: What is the logging module in Python used for?\n",
    "      - The logging module is used to record messages for tracking events,  debugging, and error reporting during program execution.\n",
    "      It supports different log levels and output formats."
   ]
  },
  {
   "cell_type": "markdown",
   "id": "a000bb8b",
   "metadata": {
    "id": "DJt2jciIXe-U"
   },
   "source": [
    "#  Q22: What is the os module in Python used for in file handling?\n",
    "       - The os module provides functions to interact with the operating system, such as file creation, deletion, renaming, path checking, and directory management."
   ]
  },
  {
   "cell_type": "markdown",
   "id": "02b7e070",
   "metadata": {
    "id": "R6GgXoUPXm3M"
   },
   "source": [
    "#  Q23: What are the challenges associated with memory management in Python?\n",
    "       - Challenges include:\n",
    "\n",
    "         Circular references not immediately cleaned by reference counting\n",
    "\n",
    "         Memory leaks due to unused but still referenced objects\n",
    "\n",
    "         Manual resource cleanup is sometimes needed despite automatic management\n",
    "\n"
   ]
  },
  {
   "cell_type": "markdown",
   "id": "fd33b273",
   "metadata": {
    "id": "Pv6gsyyKX2DV"
   },
   "source": [
    "# Q24: How do you raise an exception manually in Python?\n",
    "      - ou can raise an exception using the raise keyword followed by the exception type.\n",
    "      Example:\n",
    "      raise ValueError(\"Invalid input\")"
   ]
  },
  {
   "cell_type": "markdown",
   "id": "da00b8bb",
   "metadata": {
    "id": "81QbR0M1YB30"
   },
   "source": [
    "# Q25: Why is it important to use multithreading in certain applications?\n",
    "      - Multithreading improves performance in I/O-bound tasks by allowing multiple operations to run concurrently, like file access, network requests, or user interface responsiveness.\n",
    "\n"
   ]
  },
  {
   "cell_type": "markdown",
   "id": "ffaefed4",
   "metadata": {
    "id": "0hGv7DghYJLl"
   },
   "source": [
    "# Practicle Question:-"
   ]
  },
  {
   "cell_type": "markdown",
   "id": "cf3c4108",
   "metadata": {
    "id": "1P7ZPNKTHNaz"
   },
   "source": [
    "# Q1. How can you open a file for writing in Python and write a string to it?"
   ]
  },
  {
   "cell_type": "code",
   "execution_count": null,
   "id": "faa5dc7e",
   "metadata": {},
   "outputs": [],
   "source": [
    "# Cell 1: (Original cell, lightly labeled)\n",
    "# Open a file in write mode and write a string to it\n",
    "file_path = \"example.txt\"\n",
    "\n",
    "with open(file_path, \"w\") as file:\n",
    "    file.write(\"Hello, this is the first line written to the file!\")\n",
    "\n",
    "print(\"String written to the file successfully.\")\n"
   ]
  },
  {
   "cell_type": "markdown",
   "id": "6f6514c6",
   "metadata": {
    "id": "ryMvSxerHh9I"
   },
   "source": [
    "#  Q2. Write a Python program to read the contents of a file and print each line.\n",
    "\n"
   ]
  },
  {
   "cell_type": "code",
   "execution_count": null,
   "id": "82dd03bd",
   "metadata": {},
   "outputs": [],
   "source": [
    "# Cell 2: (Original cell, lightly labeled)\n",
    "# File ka naam hai example.txt\n",
    "try:\n",
    "    f = open(\"example.txt\", \"r\")\n",
    "    for i in f:\n",
    "        print(i.strip())\n",
    "    f.close()\n",
    "except FileNotFoundError:\n",
    "    print(\"File nahi mili.\")\n"
   ]
  },
  {
   "cell_type": "markdown",
   "id": "942ae3a7",
   "metadata": {
    "id": "h7RMXrn9Hh7m"
   },
   "source": [
    "# Q3: \"How would you handle a case where the file doesn’t exist while trying to open it for reading?\""
   ]
  },
  {
   "cell_type": "code",
   "execution_count": null,
   "id": "ef770cf6",
   "metadata": {},
   "outputs": [],
   "source": [
    "# Cell 3: (Original cell, lightly labeled)\n",
    "# Step 1: Create a file and write some content\n",
    "with open(\"data.txt\", \"w\") as file:\n",
    "    file.write(\"\"\"My name is Aditya Sen. I am learning Python file handling.\n",
    "This file is created in Google Colab to test reading a file using try-except block.\"\"\")\n"
   ]
  },
  {
   "cell_type": "code",
   "execution_count": null,
   "id": "99675123",
   "metadata": {},
   "outputs": [],
   "source": [
    "# Cell 4: (Original cell, lightly labeled)\n",
    "# Step 2: Try to read the file and handle if file is missing\n",
    "try:\n",
    "    with open(\"data.txt\", \"r\") as file:\n",
    "        content = file.read()\n",
    "        print(\"File content:\\n\", content)\n",
    "except FileNotFoundError:\n",
    "    print(\"Error: The file you are trying to read does not exist.\")\n"
   ]
  },
  {
   "cell_type": "markdown",
   "id": "2c6680e4",
   "metadata": {
    "id": "Py4uGvAzIDwx"
   },
   "source": [
    "#  Q4: \"Write a Python script that reads from one file and writes its content to another file.\""
   ]
  },
  {
   "cell_type": "code",
   "execution_count": null,
   "id": "2b15a47d",
   "metadata": {},
   "outputs": [],
   "source": [
    "# Cell 5: (Original cell, lightly labeled)\n",
    "from google.colab import files\n",
    "uploaded = files.upload()"
   ]
  },
  {
   "cell_type": "code",
   "execution_count": null,
   "id": "c30aac59",
   "metadata": {},
   "outputs": [],
   "source": [
    "# Cell 6: (Original cell, lightly labeled)\n",
    "# Step 1: Create a source file and write some content into it\n",
    "with open(\"saurce file.txt\", \"w\") as src:\n",
    "    src.write(\"\"\"This is the source file.\n",
    "We are copying this content into another file.\n",
    "Python makes file handling easy.\"\"\")\n",
    "\n",
    "# Step 2: Read from source file and write to destination file\n",
    "with open(\"saurce file.txt\", \"r\") as src:\n",
    "    content = src.read()\n",
    "\n",
    "with open(\"destination_file.txt\", \"w\") as dest:\n",
    "    dest.write(content)\n",
    "\n",
    "print(\"✅ File copied successfully from source_file.txt to destination_file.txt.\")\n",
    "\n",
    "# Step 3: Optional: Display content of destination file to confirm\n",
    "with open(\"destination_file.txt\", \"r\") as check:\n",
    "    print(\"\\n📄 Content of destination file:\")\n",
    "    print(check.read())\n"
   ]
  },
  {
   "cell_type": "markdown",
   "id": "4b1f79c3",
   "metadata": {
    "id": "dVfu0txMISVy"
   },
   "source": [
    "# Q5: \"How would you catch and handle division by zero error in Python?\""
   ]
  },
  {
   "cell_type": "code",
   "execution_count": null,
   "id": "1a690d3e",
   "metadata": {},
   "outputs": [],
   "source": [
    "# Cell 7: (Original cell, lightly labeled)\n",
    "# Division by zero error ko handle karne wala simple program\n",
    "try:\n",
    "    a = 10\n",
    "    b = 0\n",
    "    result = a / b\n",
    "    print(\"Result:\", result)\n",
    "except ZeroDivisionError:\n",
    "    print(\"Error: Division by zero is not allowed.\")\n"
   ]
  },
  {
   "cell_type": "markdown",
   "id": "ef099083",
   "metadata": {
    "id": "FHPDBNXUISUz"
   },
   "source": [
    "# Q6: \"Write a Python program that logs an error message to a log file when a division by zero exception occurs.\""
   ]
  },
  {
   "cell_type": "code",
   "execution_count": null,
   "id": "12718be7",
   "metadata": {},
   "outputs": [],
   "source": [
    "# Cell 8: (Original cell, lightly labeled)\n",
    "import logging\n",
    "\n",
    "# Configure logging to write errors to a file\n",
    "logging.basicConfig(filename=\"error.log\",\n",
    "                    level=logging.ERROR,\n",
    "                    format=\"%(asctime)s - %(levelname)s - %(message)s\")\n",
    "\n",
    "try:\n",
    "    num1 = 10\n",
    "    num2 = 0  # This will cause division by zero\n",
    "    result = num1 / num2\n",
    "    print(\"Result:\", result)\n",
    "except ZeroDivisionError:\n",
    "    logging.error(\"Division by zero error occurred!\")\n",
    "    print(\"An error occurred! Check 'error.log' for details.\")\n"
   ]
  },
  {
   "cell_type": "markdown",
   "id": "0cb69ffd",
   "metadata": {
    "id": "1BBhUYwI3aLN"
   },
   "source": [
    "# Q7. How do you log information at different levels (INFO, ERROR, WARNING) in Python using the logging module?"
   ]
  },
  {
   "cell_type": "code",
   "execution_count": null,
   "id": "dfa5cf6d",
   "metadata": {},
   "outputs": [],
   "source": [
    "# Cell 9: (Original cell, lightly labeled)\n",
    "# 1. Import the logging module\n",
    "import logging\n",
    "\n",
    "# 2. Set up the logging configuration\n",
    "# By setting the 'level' to logging.DEBUG, we ensure that all messages from DEBUG level and above (INFO, WARNING, ERROR, CRITICAL) will be logged.\n",
    "logging.basicConfig(filename='log_levels.log',\n",
    "                    level=logging.DEBUG,\n",
    "                    format='%(asctime)s - %(levelname)s - %(message)s')\n",
    "\n",
    "# 3. Write log messages at different levels\n",
    "logging.debug(\"This is a DEBUG message. It provides detailed information, typically for debugging.\")\n",
    "logging.info(\"This is an INFO message. It provides general information about the program's progress.\")\n",
    "logging.warning(\"This is a WARNING message. It indicates a potential issue that doesn't stop the program.\")\n",
    "logging.error(\"This is an ERROR message. It indicates a serious error that prevents some part of the program from functioning correctly.\")\n",
    "logging.critical(\"This is a CRITICAL message. It indicates a very serious error, often leading to program termination.\")\n",
    "\n",
    "print(\"Logging is complete. Please check the 'log_levels.log' file for all the messages.\")"
   ]
  },
  {
   "cell_type": "markdown",
   "id": "8e08b334",
   "metadata": {
    "id": "a1xU2XapPaqE"
   },
   "source": [
    "#  Q8: \"Write a program to handle a file opening error using exception handling.\""
   ]
  },
  {
   "cell_type": "code",
   "execution_count": null,
   "id": "bf4dc8cd",
   "metadata": {},
   "outputs": [],
   "source": [
    "# Cell 10: (Original cell, lightly labeled)\n",
    "from google.colab import files\n",
    "uploaded = files.upload()"
   ]
  },
  {
   "cell_type": "code",
   "execution_count": null,
   "id": "bc637b6c",
   "metadata": {},
   "outputs": [],
   "source": [
    "# Cell 11: (Original cell, lightly labeled)\n",
    "# Q8: Handle file opening error using exception handling\n",
    "\n",
    "try:\n",
    "    # Trying to open a non-existing file\n",
    "    with open(\"data.txt.5.txt\", \"r\") as file:\n",
    "        content = file.read()\n",
    "        print(content)\n",
    "except FileNotFoundError:\n",
    "    print(\"Error: The file you are trying to open does not exist.\")\n",
    "except PermissionError:\n",
    "    print(\"Error: You don't have permission to open this file.\")\n",
    "\n"
   ]
  },
  {
   "cell_type": "markdown",
   "id": "e8a017d3",
   "metadata": {
    "id": "Y2v5EukmPljc"
   },
   "source": [
    "#  Q9: \"How can you read a file line by line and store its content in a list in Python?\""
   ]
  },
  {
   "cell_type": "code",
   "execution_count": null,
   "id": "b53c87ad",
   "metadata": {},
   "outputs": [],
   "source": [
    "# Cell 12: (Original cell, lightly labeled)\n",
    "from google.colab import files\n",
    "uploaded = files.upload()"
   ]
  },
  {
   "cell_type": "code",
   "execution_count": null,
   "id": "414bec93",
   "metadata": {},
   "outputs": [],
   "source": [
    "# Cell 13: (Original cell, lightly labeled)\n",
    "# Q9: Read a file line by line and store in a list\n",
    "\n",
    "# Open file in read mode\n",
    "with open(\"sample.txt\", \"r\") as file:\n",
    "    lines = file.readlines()  # Reads all lines into a list\n",
    "\n",
    "# Remove newline characters from each line\n",
    "lines = [line.strip() for line in lines]\n",
    "\n",
    "# Print the list\n",
    "print(\"File content as list:\")\n",
    "print(lines)\n",
    "\n"
   ]
  },
  {
   "cell_type": "markdown",
   "id": "c071d348",
   "metadata": {
    "id": "9lZ7x2REQBSD"
   },
   "source": [
    "#  Q10: \"How can you append data to an existing file in Python?\""
   ]
  },
  {
   "cell_type": "code",
   "execution_count": null,
   "id": "220cf713",
   "metadata": {},
   "outputs": [],
   "source": [
    "# Cell 14: (Original cell, lightly labeled)\n",
    "# Appending data to an existing file\n",
    "try:\n",
    "    with open(\"data.txt\", \"a\") as file:\n",
    "        file.write(\"\\nThis is a new line added to the file.\")\n",
    "\n",
    "    print(\"Data appended successfully.\")\n",
    "except FileNotFoundError:\n",
    "    print(\"Error: The file you are trying to append to does not exist.\")\n"
   ]
  },
  {
   "cell_type": "markdown",
   "id": "e7823aed",
   "metadata": {
    "id": "_sPpfxHAQIu6"
   },
   "source": [
    "#  Q11: \"Write a Python program that uses a try-except block to handle an error when attempting to access a dictionary key that doesn’t exist.\"\n",
    "\n"
   ]
  },
  {
   "cell_type": "code",
   "execution_count": null,
   "id": "2501c3c8",
   "metadata": {},
   "outputs": [],
   "source": [
    "# Cell 15: (Original cell, lightly labeled)\n",
    "# Handling KeyError using try-except\n",
    "data = {\n",
    "    \"name\": \"Aditya\",\n",
    "    \"age\": 22\n",
    "}\n",
    "\n",
    "try:\n",
    "    print(\"City:\", data[\"city\"])\n",
    "except KeyError:\n",
    "    print(\"Error: The key 'city' does not exist in the dictionary.\")\n"
   ]
  },
  {
   "cell_type": "markdown",
   "id": "e08582ec",
   "metadata": {
    "id": "sHwwHZi4QR5r"
   },
   "source": [
    "# Q12: \"Write a program that demonstrates using multiple except blocks to handle different types of exceptions.\""
   ]
  },
  {
   "cell_type": "code",
   "execution_count": null,
   "id": "03fef7c5",
   "metadata": {},
   "outputs": [],
   "source": [
    "# Cell 16: (Original cell, lightly labeled)\n",
    "# Program with multiple except blocks\n",
    "try:\n",
    "    a = int(input(\"Enter a number: \"))\n",
    "    b = int(input(\"Enter another number: \"))\n",
    "    result = a / b\n",
    "    print(\"Result:\", result)\n",
    "except ValueError:\n",
    "    print(\"Error: Please enter only numbers.\")\n",
    "except ZeroDivisionError:\n",
    "    print(\"Error: Division by zero is not allowed.\")\n",
    "except Exception as e:\n",
    "    print(\"An unexpected error occurred:\", e)\n"
   ]
  },
  {
   "cell_type": "markdown",
   "id": "505b1625",
   "metadata": {
    "id": "QlWgq7OJQjXa"
   },
   "source": [
    "#Q13: \"How would you check if a file exists before attempting to read it in Python?"
   ]
  },
  {
   "cell_type": "code",
   "execution_count": null,
   "id": "2886434c",
   "metadata": {},
   "outputs": [],
   "source": [
    "# Cell 17: (Original cell, lightly labeled)\n",
    "import os\n",
    "\n",
    "file_path = \"sample.txt\"\n",
    "\n",
    "if os.path.exists(file_path):\n",
    "    with open(file_path, \"r\") as file:\n",
    "        content = file.read()\n",
    "        print(\"File content:\\n\", content)\n",
    "else:\n",
    "    print(\"The file does not exist.\")\n"
   ]
  },
  {
   "cell_type": "markdown",
   "id": "4747bee5",
   "metadata": {
    "id": "fs5bTjMKQufk"
   },
   "source": [
    "# Q14: \"Write a program that uses the logging module to log both informational and error messages.\""
   ]
  },
  {
   "cell_type": "code",
   "execution_count": null,
   "id": "93d0ec7c",
   "metadata": {},
   "outputs": [],
   "source": [
    "# Cell 18: (Original cell, lightly labeled)\n",
    "# 1. Import the logging module\n",
    "import logging\n",
    "\n",
    "# 2. Set up the logging configuration\n",
    "# By setting the 'level' to logging.DEBUG, we ensure that all messages from DEBUG level and above will be logged.\n",
    "logging.basicConfig(filename='app.log',\n",
    "                    level=logging.DEBUG,\n",
    "                    format='%(asctime)s - %(levelname)s - %(message)s')\n",
    "\n",
    "# 3. Create a function that performs division and logging\n",
    "def divide_numbers(a, b):\n",
    "    try:\n",
    "        # Log an informational message before attempting the operation\n",
    "        logging.info(f\"Attempting to divide {a} by {b}\")\n",
    "\n",
    "        # Perform the division\n",
    "        result = a / b\n",
    "\n",
    "        # Log a success message if the division is successful\n",
    "        logging.info(f\"Division successful! Result: {result}\")\n",
    "\n",
    "        return result\n",
    "    except ZeroDivisionError:\n",
    "        # Log an error message if a division by zero occurs\n",
    "        logging.error(f\"Error: Attempted division by zero with a={a} and b={b}\")\n",
    "        return None\n",
    "\n",
    "# 4. Call the function to demonstrate both scenarios\n",
    "print(\"--- Case 1 (Successful division) ---\")\n",
    "divide_numbers(10, 2)  # This will log INFO messages\n",
    "\n",
    "print(\"\\n--- Case 2 (Division by zero) ---\")\n",
    "divide_numbers(10, 0) # This will log an ERROR message"
   ]
  },
  {
   "cell_type": "markdown",
   "id": "e66ea0d3",
   "metadata": {
    "id": "P-IVNHmvQ2HD"
   },
   "source": [
    "#  Q15: \"Write a Python program that prints the content of a file and handles the case when the file is empty.\""
   ]
  },
  {
   "cell_type": "code",
   "execution_count": null,
   "id": "f3c14e18",
   "metadata": {},
   "outputs": [],
   "source": [
    "# Cell 19: (Original cell, lightly labeled)\n",
    "from google.colab import files\n",
    "uploaded = files.upload()"
   ]
  },
  {
   "cell_type": "code",
   "execution_count": null,
   "id": "2bc1ca83",
   "metadata": {},
   "outputs": [],
   "source": [
    "# Cell 20: (Original cell, lightly labeled)\n",
    "# Q15: Print file content and handle empty file case\n",
    "\n",
    "file_name = \"sample.adi.txt\"\n",
    "\n",
    "try:\n",
    "    with open(file_name, \"r\") as file:\n",
    "        content = file.read()\n",
    "        if content.strip() == \"\":\n",
    "            print(\"The file is empty.\")\n",
    "        else:\n",
    "            print(\"File Content:\\n\")\n",
    "            print(content)\n",
    "except FileNotFoundError:\n",
    "    print(f\"Error: The file '{file_name}' does not exist.\")\n"
   ]
  },
  {
   "cell_type": "markdown",
   "id": "ce2263d9",
   "metadata": {
    "id": "5m-21BqGiT_1"
   },
   "source": [
    "#  Q17: \"Write a Python program to create and write a list of numbers to a file, one number per line.\""
   ]
  },
  {
   "cell_type": "code",
   "execution_count": null,
   "id": "5085252c",
   "metadata": {},
   "outputs": [],
   "source": [
    "# Cell 21: (Original cell, lightly labeled)\n",
    "# Program to write a list of numbers to a file (one per line)\n",
    "numbers = [10, 20, 30, 40, 50]\n",
    "\n",
    "with open(\"numbers.txt\", \"w\") as file:\n",
    "    for num in numbers:\n",
    "        file.write(str(num) + \"\\n\")\n",
    "\n",
    "print(\"Numbers written to file successfully.\")\n"
   ]
  },
  {
   "cell_type": "markdown",
   "id": "92bc3aa5",
   "metadata": {
    "id": "brnNzZtYiT99"
   },
   "source": [
    "#  Q18: \"Write a Python program to read a file containing numbers (one per line) and calculate their sum"
   ]
  },
  {
   "cell_type": "code",
   "execution_count": null,
   "id": "4c035e38",
   "metadata": {},
   "outputs": [],
   "source": [
    "# Cell 22: (Original cell, lightly labeled)\n",
    "# Program to read numbers from a file and calculate their sum\n",
    "total = 0\n",
    "\n",
    "try:\n",
    "    with open(\"numbers.txt\", \"r\") as file:\n",
    "        for line in file:\n",
    "            total += int(line.strip())\n",
    "\n",
    "    print(\"Sum of numbers:\", total)\n",
    "\n",
    "except FileNotFoundError:\n",
    "    print(\"Error: The file does not exist.\")\n",
    "except ValueError:\n",
    "    print(\"Error: File contains non-numeric data.\")\n"
   ]
  },
  {
   "cell_type": "markdown",
   "id": "4500cb41",
   "metadata": {
    "id": "g9p-J_bzi9uG"
   },
   "source": [
    "# Q19: \"Write a Python program to count the number of lines, words, and characters in a file.\"\n",
    "\n"
   ]
  },
  {
   "cell_type": "code",
   "execution_count": null,
   "id": "05d2f31b",
   "metadata": {},
   "outputs": [],
   "source": [
    "# Cell 23: (Original cell, lightly labeled)\n",
    "from google.colab import files\n",
    "uploaded = files.upload()"
   ]
  },
  {
   "cell_type": "code",
   "execution_count": null,
   "id": "31926cca",
   "metadata": {},
   "outputs": [],
   "source": [
    "# Cell 24: (Original cell, lightly labeled)\n",
    "try:\n",
    "    with open(\"sample.txt1.txt\", \"r\") as file:\n",
    "        lines = file.readlines()\n",
    "\n",
    "    line_count = len(lines)\n",
    "    word_count = sum(len(line.split()) for line in lines)\n",
    "    char_count = sum(len(line) for line in lines)\n",
    "\n",
    "    print(\"Total lines:\", line_count)\n",
    "    print(\"Total words:\", word_count)\n",
    "    print(\"Total characters:\", char_count)\n",
    "\n",
    "except FileNotFoundError:\n",
    "    print(\"Error: The file does not exist.\")\n"
   ]
  },
  {
   "cell_type": "markdown",
   "id": "1e99043e",
   "metadata": {
    "id": "DYhhYnS7jS7D"
   },
   "source": [
    "# Q20: \"Write a Python program to copy the contents of one file to another.\""
   ]
  },
  {
   "cell_type": "code",
   "execution_count": null,
   "id": "b646728b",
   "metadata": {},
   "outputs": [],
   "source": [
    "# Cell 25: (Original cell, lightly labeled)\n",
    "from google.colab import files\n",
    "uploaded = files.upload()"
   ]
  },
  {
   "cell_type": "code",
   "execution_count": null,
   "id": "ecf3e710",
   "metadata": {},
   "outputs": [],
   "source": [
    "# Cell 26: (Original cell, lightly labeled)\n",
    "# Program to copy contents from one file to another\n",
    "try:\n",
    "    with open(\"simple.py1.txt\", \"r\") as source_file:\n",
    "        content = source_file.read()\n",
    "\n",
    "    with open(\"destination.txt\", \"w\") as dest_file:\n",
    "        dest_file.write(content)\n",
    "\n",
    "    print(\"File copied successfully.\")\n",
    "\n",
    "except FileNotFoundError:\n",
    "    print(\"Error: Source file does not exist.\")\n"
   ]
  },
  {
   "cell_type": "markdown",
   "id": "2cc901b3",
   "metadata": {
    "id": "KROfcJVbjhWf"
   },
   "source": [
    "#  Q21: \"Write a Python program that reads a file and displays only the lines that are not empty.\""
   ]
  },
  {
   "cell_type": "code",
   "execution_count": null,
   "id": "78c7f63b",
   "metadata": {},
   "outputs": [],
   "source": [
    "# Cell 27: (Original cell, lightly labeled)\n",
    "from google.colab import files\n",
    "uploaded = files.upload()"
   ]
  },
  {
   "cell_type": "code",
   "execution_count": null,
   "id": "78f9a31b",
   "metadata": {},
   "outputs": [],
   "source": [
    "# Cell 28: (Original cell, lightly labeled)\n",
    "# Program to read a file and print only non-empty lines\n",
    "try:\n",
    "    with open(\"sample.pyo\", \"r\") as file:\n",
    "        for line in file:\n",
    "            if line.strip():  # Check if line is not empty after removing spaces/newlines\n",
    "                print(line.strip())\n",
    "except FileNotFoundError:\n",
    "    print(\"Error: The file does not exist.\")\n"
   ]
  },
  {
   "cell_type": "markdown",
   "id": "59be603a",
   "metadata": {
    "id": "XYR6gpL6bWJc"
   },
   "source": [
    "# Q22: \"Write a Python program to merge two text files into a third file.\""
   ]
  },
  {
   "cell_type": "code",
   "execution_count": null,
   "id": "ff25eea3",
   "metadata": {},
   "outputs": [],
   "source": [
    "# Cell 29: (Original cell, lightly labeled)\n",
    "from google.colab import files\n",
    "uploaded = files.upload()"
   ]
  },
  {
   "cell_type": "code",
   "execution_count": null,
   "id": "351299ee",
   "metadata": {},
   "outputs": [],
   "source": [
    "# Cell 30: (Original cell, lightly labeled)\n",
    "from google.colab import files\n",
    "uploaded = files.upload()"
   ]
  },
  {
   "cell_type": "code",
   "execution_count": null,
   "id": "e259fd8a",
   "metadata": {},
   "outputs": [],
   "source": [
    "# Cell 31: (Original cell, lightly labeled)\n",
    "# Program to merge two files into a third file\n",
    "try:\n",
    "    with open(\"File1.txt\", \"r\") as f1, open(\"File2.txt\", \"r\") as f2:\n",
    "        content1 = f1.read()\n",
    "        content2 = f2.read()\n",
    "\n",
    "    with open(\"merged_file.txt\", \"w\") as merged:\n",
    "        merged.write(content1 + \"\\n\" + content2)\n",
    "\n",
    "    print(\"Files merged successfully into 'merged_file.txt'.\")\n",
    "\n",
    "except FileNotFoundError:\n",
    "    print(\"Error: One or both input files do not exist.\")\n"
   ]
  },
  {
   "cell_type": "code",
   "execution_count": null,
   "id": "dbb44fba",
   "metadata": {},
   "outputs": [],
   "source": [
    "# Cell 32: (Original cell, lightly labeled)\n",
    "from google.colab import files\n",
    "files.download(\"merged_file.txt\")"
   ]
  },
  {
   "cell_type": "markdown",
   "id": "c29ff720",
   "metadata": {
    "id": "F92XbWVCdjPq"
   },
   "source": [
    "# Q23: \"Write a Python program to count the number of lines, words, and characters in a text file.\""
   ]
  },
  {
   "cell_type": "code",
   "execution_count": null,
   "id": "6b94fb59",
   "metadata": {},
   "outputs": [],
   "source": [
    "# Cell 33: (Original cell, lightly labeled)\n",
    "from google.colab import files\n",
    "uploaded = files.upload()"
   ]
  },
  {
   "cell_type": "code",
   "execution_count": null,
   "id": "447ec95e",
   "metadata": {},
   "outputs": [],
   "source": [
    "# Cell 34: (Original cell, lightly labeled)\n",
    "# Program to count lines, words, and characters in a file\n",
    "try:\n",
    "    with open(\"txt.file2.txt\", \"r\") as file:\n",
    "        lines = file.readlines()\n",
    "\n",
    "    line_count = len(lines)\n",
    "    word_count = sum(len(line.split()) for line in lines)\n",
    "    char_count = sum(len(line) for line in lines)\n",
    "\n",
    "    print(f\"Total Lines     : {line_count}\")\n",
    "    print(f\"Total Words     : {word_count}\")\n",
    "    print(f\"Total Characters: {char_count}\")\n",
    "\n",
    "except FileNotFoundError:\n",
    "    print(\"Error: File 'sample.txt' not found.\")\n"
   ]
  }
 ],
 "metadata": {},
 "nbformat": 4,
 "nbformat_minor": 5
}
